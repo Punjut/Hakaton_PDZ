{
 "cells": [
  {
   "cell_type": "code",
   "execution_count": 1,
   "metadata": {},
   "outputs": [],
   "source": [
    "import numpy as np\n",
    "import pandas as pd\n",
    "pd.options.display.max_columns = 999"
   ]
  },
  {
   "cell_type": "markdown",
   "metadata": {},
   "source": [
    "#### Загружаем очищенные данные"
   ]
  },
  {
   "cell_type": "code",
   "execution_count": 2,
   "metadata": {},
   "outputs": [
    {
     "data": {
      "text/html": [
       "<div>\n",
       "<style scoped>\n",
       "    .dataframe tbody tr th:only-of-type {\n",
       "        vertical-align: middle;\n",
       "    }\n",
       "\n",
       "    .dataframe tbody tr th {\n",
       "        vertical-align: top;\n",
       "    }\n",
       "\n",
       "    .dataframe thead th {\n",
       "        text-align: right;\n",
       "    }\n",
       "</style>\n",
       "<table border=\"1\" class=\"dataframe\">\n",
       "  <thead>\n",
       "    <tr style=\"text-align: right;\">\n",
       "      <th></th>\n",
       "      <th>Наименование ДП</th>\n",
       "      <th>Нематериальные активы</th>\n",
       "      <th>Основные средства</th>\n",
       "      <th>Внеоборотные активы</th>\n",
       "      <th>Дебиторская задолженность</th>\n",
       "      <th>Оборотные активы</th>\n",
       "      <th>Уставный капитал</th>\n",
       "      <th>Капитал и резервы</th>\n",
       "      <th>Заёмные средства (долгосрочные)</th>\n",
       "      <th>Долгосрочные обязательства</th>\n",
       "      <th>Заёмные средства (краткосрочные)</th>\n",
       "      <th>Кредиторская задолженность</th>\n",
       "      <th>Краткосрочные обязательства</th>\n",
       "      <th>Выручка</th>\n",
       "      <th>Себестоимость продаж</th>\n",
       "      <th>Прибыль (убыток) до налогообложения</th>\n",
       "      <th>Прибыль (убыток) от продажи</th>\n",
       "      <th>Макс. ПДЗ за 2019 год, дней</th>\n",
       "    </tr>\n",
       "  </thead>\n",
       "  <tbody>\n",
       "    <tr>\n",
       "      <th>0</th>\n",
       "      <td>0</td>\n",
       "      <td>9.050955e+06</td>\n",
       "      <td>2.145239e+09</td>\n",
       "      <td>2.440078e+09</td>\n",
       "      <td>3.475461e+09</td>\n",
       "      <td>6.077448e+09</td>\n",
       "      <td>629400000.0</td>\n",
       "      <td>2.289274e+09</td>\n",
       "      <td>0.0</td>\n",
       "      <td>2.712210e+08</td>\n",
       "      <td>3.923917e+08</td>\n",
       "      <td>5.476906e+09</td>\n",
       "      <td>5.957031e+09</td>\n",
       "      <td>3.703952e+10</td>\n",
       "      <td>3.438313e+10</td>\n",
       "      <td>7.461828e+08</td>\n",
       "      <td>8.716191e+08</td>\n",
       "      <td>0</td>\n",
       "    </tr>\n",
       "  </tbody>\n",
       "</table>\n",
       "</div>"
      ],
      "text/plain": [
       "   Наименование ДП  Нематериальные активы  Основные средства  \\\n",
       "0                0           9.050955e+06       2.145239e+09   \n",
       "\n",
       "   Внеоборотные активы  Дебиторская задолженность  Оборотные активы  \\\n",
       "0         2.440078e+09               3.475461e+09      6.077448e+09   \n",
       "\n",
       "   Уставный капитал  Капитал и резервы  Заёмные средства (долгосрочные)  \\\n",
       "0       629400000.0       2.289274e+09                              0.0   \n",
       "\n",
       "   Долгосрочные обязательства  Заёмные средства (краткосрочные)  \\\n",
       "0                2.712210e+08                      3.923917e+08   \n",
       "\n",
       "   Кредиторская задолженность  Краткосрочные обязательства       Выручка  \\\n",
       "0                5.476906e+09                 5.957031e+09  3.703952e+10   \n",
       "\n",
       "   Себестоимость продаж  Прибыль (убыток) до налогообложения  \\\n",
       "0          3.438313e+10                         7.461828e+08   \n",
       "\n",
       "   Прибыль (убыток) от продажи  Макс. ПДЗ за 2019 год, дней  \n",
       "0                 8.716191e+08                            0  "
      ]
     },
     "execution_count": 2,
     "metadata": {},
     "output_type": "execute_result"
    }
   ],
   "source": [
    "data19=pd.read_csv('df2019.csv',index_col=0)\n",
    "data20=pd.read_csv('df2020.csv',index_col=0)\n",
    "data21=pd.read_csv('df2021.csv',index_col=0)\n",
    "\n",
    "data19.head(1)"
   ]
  },
  {
   "cell_type": "markdown",
   "metadata": {},
   "source": [
    "#### Добавляем нужные столбцы"
   ]
  },
  {
   "cell_type": "code",
   "execution_count": 3,
   "metadata": {},
   "outputs": [],
   "source": [
    "def other_columns(data):\n",
    "    data['Активы']=data['Оборотные активы']+data['Внеоборотные активы']\n",
    "    data['Собственные оборотные средства']=data['Оборотные активы']-data['Краткосрочные обязательства']\n",
    "    data['Заёмные средства']=data['Заёмные средства (краткосрочные)']+data['Заёмные средства (долгосрочные)']\n",
    "    data['Чистые активы']=data['Активы']-data['Заёмные средства']\n",
    "    return data\n",
    "\n",
    "data19=other_columns(data19)\n",
    "data20=other_columns(data20)\n",
    "data21=other_columns(data21)"
   ]
  },
  {
   "cell_type": "markdown",
   "metadata": {},
   "source": [
    "#### Оставляем те компании, у которых активы не равны нулю"
   ]
  },
  {
   "cell_type": "code",
   "execution_count": 4,
   "metadata": {},
   "outputs": [],
   "source": [
    "data19=data19[data19['Активы']!=0].reset_index().drop('index',axis=1)\n",
    "data20=data20[data20['Активы']!=0].reset_index().drop('index',axis=1)\n",
    "data21=data21[data21['Активы']!=0].reset_index().drop('index',axis=1)"
   ]
  },
  {
   "cell_type": "markdown",
   "metadata": {},
   "source": [
    "#### Генерируем признаки\n",
    "\n",
    "Подробнее: https://1fin.ru/?id=311"
   ]
  },
  {
   "cell_type": "code",
   "execution_count": 5,
   "metadata": {},
   "outputs": [
    {
     "name": "stdout",
     "output_type": "stream",
     "text": [
      "Поехали, chanda belin\n",
      "Поехали, chanda belin\n",
      "Поехали, chanda belin\n"
     ]
    }
   ],
   "source": [
    "def feature_generation(data):\n",
    "    # Создаём новый датафрейм\n",
    "    df_new=pd.DataFrame()\n",
    "    # Заполняем ключ\n",
    "    df_new['ID']=data['Наименование ДП']\n",
    "    # Генерим новые признаки\n",
    "    print('Поехали, chanda belin')\n",
    "    ### 1. Коэффициенты ликвидности\n",
    "    df_new['cf_likv1']=data['Оборотные активы']/data['Краткосрочные обязательства'] # Коэффициент текущей ликвидности\n",
    "    df_new['cf_likv2']=data['Оборотные активы']/(data['Краткосрочные обязательства']+data['Долгосрочные обязательства']) # Коэффициент общей ликвидности\n",
    "    df_new['cf_likv3']=data['Оборотные активы']/(data['Краткосрочные обязательства']+data['Кредиторская задолженность']) # Общий коэффициент покрытия\n",
    "    ### 2. Коэффициенты оборачиваемости\n",
    "    df_new['cf_ob1']=data['Выручка']/data['Оборотные активы'] # Коэффициент оборачиваемости оборотных средств\n",
    "    df_new['cf_ob2']=data['Выручка']/data['Дебиторская задолженность'] # Коэффициент оборачиваемости дебиторской задолженности\n",
    "    df_new['cf_ob3']=data['Выручка']/data['Кредиторская задолженность'] # Коэффициент оборачиваемости кредиторской задолженности\n",
    "    df_new['cf_ob4']=data['Выручка']/data['Капитал и резервы'] # Коэффициент оборачиваемости собственного капитала                    \n",
    "    df_new['cf_ob5']=data['Оборотные активы']/data['Активы'] # Доля оборотных средств в активах\n",
    "    ### 3. Коэффициенты рентабельности\n",
    "    df_new['cf_rent1']=data['Прибыль (убыток) от продажи']/data['Выручка'] # Рентабельность продаж\n",
    "    df_new['cf_rent2']=data['Прибыль (убыток) до налогообложения']/data['Себестоимость продаж'] # Рентабельность затрат\n",
    "    df_new['cf_rent3']=data['Прибыль (убыток) до налогообложения']/data['Активы'] # Экономическая рентабельность  \n",
    "    df_new['сf_rent4']=data['Прибыль (убыток) до налогообложения']/data['Капитал и резервы'] # Рентабельность собственного капитала\n",
    "    df_new['сf_rent5']=data['Прибыль (убыток) до налогообложения']/data['Основные средства'] # Рентабельность основных средств\n",
    "    df_new['сf_rent6']=data['Прибыль (убыток) до налогообложения']/(\n",
    "        data['Заёмные средства (долгосрочные)']+data['Заёмные средства (краткосрочные)']) # Рентабельность заёмного капитала\n",
    "    df_new['cf_rent7']=data['Прибыль (убыток) до налогообложения']/data['Оборотные активы'] # Рентабельность оборотных средств\n",
    "    ### 4. Коэффициенты рыночной устойчивости\n",
    "    df_new['cf_ru1']=data['Собственные оборотные средства']/data['Капитал и резервы'] # Коэффициент маневренности\n",
    "    df_new['cf_ru2']=(data['Краткосрочные обязательства']+data['Долгосрочные обязательства'])/(\n",
    "                      data['Капитал и резервы'])                                      # Коэффициент капитализации\n",
    "    df_new['cf_ru3']=data['Собственные оборотные средства']/data['Оборотные активы'] # Коэффициент обеспеченности собственными средствами\n",
    "    df_new['cf_ru4']=data['Капитал и резервы']/data['Заёмные средства'] # Коэффициент финансирования\n",
    "    df_new['cf_ru5']=data['Дебиторская задолженность']/data['Кредиторская задолженность'] # Коэффициент дебиторской/кредиторской задолженности\n",
    "    df_new['cf_ru6']=data['Краткосрочные обязательства']/(\n",
    "                     data['Краткосрочные обязательства']+data['Долгосрочные обязательства']) # Коэффициент краткосрочной задолженности\n",
    "    df_new['cf_ru7']=data['Долгосрочные обязательства']/data['Внеоборотные активы'] # Коэффициент структуры долгосрочных вложений\n",
    "    df_new['cf_ru8']=data['Долгосрочные обязательства']/(\n",
    "                    data['Долгосрочные обязательства']+data['Капитал и резервы']) # Коэффициент привлечения средств\n",
    "    ### 5. Коэффициенты финансовой устойчивости\n",
    "    df_new['cf_fu1']=(data['Капитал и резервы']+data['Заёмные средства (долгосрочные)'])/data['Активы'] # Коэффициент финансовой устойчивости\n",
    "    df_new['cf_fu2']=data['Капитал и резервы']/data['Активы'] # Коэффициент финансовой независимости\n",
    "    df_new['cf_fu3']=data['Заёмные средства']/data['Капитал и резервы'] # Коэффициент соотношения заемных и собственных средств\n",
    "    df_new['cf_fu4']=data['Заёмные средства']/data['Активы'] # Коэффициент концентрации заемного капитала\n",
    "    df_new['cf_fu5']=(data['Капитал и резервы']-data['Внеоборотные активы'])/data['Оборотные активы'] # Коэффициент обеспеченности оборотных активов собственными оборотными средствами\n",
    "    df_new['cf_fu6']=data['Собственные оборотные средства']/data['Оборотные активы'] # Коэффициент обеспеченности собственными источниками финансирования\n",
    "    \n",
    "    return df_new\n",
    "\n",
    "data19_new=feature_generation(data19)\n",
    "data20_new=feature_generation(data20)\n",
    "data21_new=feature_generation(data21)"
   ]
  },
  {
   "cell_type": "markdown",
   "metadata": {},
   "source": [
    "#### Добавляем таргет"
   ]
  },
  {
   "cell_type": "code",
   "execution_count": 6,
   "metadata": {},
   "outputs": [],
   "source": [
    "data19_new['ПДЗ']=data19['Макс. ПДЗ за 2019 год, дней']\n",
    "data20_new['ПДЗ']=data20['Макс. ПДЗ за 2020 год, дней']"
   ]
  },
  {
   "cell_type": "markdown",
   "metadata": {},
   "source": [
    "#### Преобразуем таргет"
   ]
  },
  {
   "cell_type": "code",
   "execution_count": 7,
   "metadata": {},
   "outputs": [],
   "source": [
    "def make_target_multi(data):\n",
    "    data['target'] = np.where(data['ПДЗ']==0,0,\n",
    "                                  np.where((data['ПДЗ']>0)&(data['ПДЗ']<=30),1,\n",
    "                                  np.where((data['ПДЗ']>30)&(data['ПДЗ']<=60),2,\n",
    "                                  np.where((data['ПДЗ']>60)&(data['ПДЗ']<=90),3,4))))\n",
    "    \n",
    "    return data\n",
    "\n",
    "data19_new=make_target_multi(data19_new)\n",
    "data20_new=make_target_multi(data20_new)"
   ]
  },
  {
   "cell_type": "markdown",
   "metadata": {},
   "source": [
    "#### Преобразуем пропуски и бесконечности"
   ]
  },
  {
   "cell_type": "code",
   "execution_count": 8,
   "metadata": {},
   "outputs": [],
   "source": [
    "def replace_na_inf(data):\n",
    "    data=data.replace(np.inf,100)\n",
    "    data=data.replace(-np.inf,100)\n",
    "    data=data.fillna(0)\n",
    "    return(data)\n",
    " \n",
    "data19_new=replace_na_inf(data19_new)\n",
    "data20_new=replace_na_inf(data20_new)\n",
    "data21_new=replace_na_inf(data21_new)"
   ]
  },
  {
   "cell_type": "markdown",
   "metadata": {},
   "source": [
    "#### Сохраняем в csv"
   ]
  },
  {
   "cell_type": "code",
   "execution_count": 9,
   "metadata": {},
   "outputs": [],
   "source": [
    "data19_new.to_csv('df2019_model.csv')\n",
    "data20_new.to_csv('df2020_model.csv')\n",
    "data21_new.to_csv('df2021_model.csv')"
   ]
  }
 ],
 "metadata": {
  "kernelspec": {
   "display_name": "Python 3",
   "language": "python",
   "name": "python3"
  },
  "language_info": {
   "codemirror_mode": {
    "name": "ipython",
    "version": 3
   },
   "file_extension": ".py",
   "mimetype": "text/x-python",
   "name": "python",
   "nbconvert_exporter": "python",
   "pygments_lexer": "ipython3",
   "version": "3.8.5"
  }
 },
 "nbformat": 4,
 "nbformat_minor": 4
}
