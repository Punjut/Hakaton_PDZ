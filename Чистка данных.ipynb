{
 "cells": [
  {
   "cell_type": "code",
   "execution_count": 2,
   "metadata": {},
   "outputs": [],
   "source": [
    "import numpy as np\n",
    "import pandas as pd\n",
    "pd.options.display.max_columns = 999"
   ]
  },
  {
   "cell_type": "markdown",
   "metadata": {},
   "source": [
    "### Постановка задачи"
   ]
  },
  {
   "cell_type": "markdown",
   "metadata": {},
   "source": [
    "К данной задаче прилагается 3 файла:\n",
    "\n",
    "- **agents2019.csv –** файл содержит информацию о просрочке дебиторской задолженности (далее - ПДЗ) за 2019 год и данных, известных на момент начала 2019 года\n",
    "- **agents2020.csv –** файл содержит информацию о просрочке дебиторской задолженности (ПДЗ) за 2020 год и данных, известных на момент начала 2020 года\n",
    "- **agents2021.csv –** файл содержит информацию о просрочке дебиторской задолженности (ПДЗ) за 2021 год и данных, известных на момент начала 2021 года\n",
    "\n",
    "#### Agents 2019\n",
    "\n",
    "Самый важный(целевой) признак – **Макс.ПДЗ за 2019 год,** представляющий собой данные о максимальном сроке дебиторской задолженности на момент окончания этого года, выраженный в днях.  Анализ этого признака и возможность его предсказания являются краеугольными в данной задаче.\n",
    "\n",
    "#### Agents 2020\n",
    "\n",
    "Самый важный(целевой) признак – **Макс.ПДЗ за 2020 год,** представляющий собой данные о максимальном сроке дебиторской задолженности на момент окончания этого года, выраженный в днях.  Анализ этого признака и возможность его предсказания являются краеугольными в данной задаче.\n",
    "\n",
    "#### Agents 2021\n",
    "\n",
    "Самый важные(целевые) признаки:\n",
    "\n",
    "---\n",
    "\n",
    "**ПДЗ 1-30 –** отражает, была ли просрочка в течении года в диапазоне от 1 до 30 дней\n",
    "\n",
    "**ПДЗ 31-90 -** отражает, была ли просрочка в течении года в диапазоне от 31 до 90 дней\n",
    "\n",
    "**ПДЗ 91-365 -** отражает, была ли просрочка в течении года в диапазоне от 91 до 365 дней\n",
    "\n",
    "**ПДЗ более 365 -**  отражает, была ли просрочка более 365 дней\n",
    "\n",
    "#### Подробнее описано здесь\n",
    "\n",
    "https://russianhackers.notion.site/89cabcf01f8147a9b37efd78433d0874"
   ]
  },
  {
   "cell_type": "markdown",
   "metadata": {},
   "source": [
    "### Исходные данные"
   ]
  },
  {
   "cell_type": "code",
   "execution_count": 40,
   "metadata": {},
   "outputs": [
    {
     "name": "stdout",
     "output_type": "stream",
     "text": [
      "(531, 55)\n"
     ]
    }
   ],
   "source": [
    "data19=pd.read_csv('agents2019.csv')\n",
    "print(data19.shape)"
   ]
  },
  {
   "cell_type": "code",
   "execution_count": 3,
   "metadata": {},
   "outputs": [
    {
     "name": "stdout",
     "output_type": "stream",
     "text": [
      "(531, 131)\n"
     ]
    }
   ],
   "source": [
    "data20=pd.read_csv('agents2020.csv')\n",
    "print(data20.shape)"
   ]
  },
  {
   "cell_type": "code",
   "execution_count": 16,
   "metadata": {},
   "outputs": [
    {
     "name": "stdout",
     "output_type": "stream",
     "text": [
      "(325, 136)\n"
     ]
    }
   ],
   "source": [
    "data21=pd.read_csv('agents2021.csv')\n",
    "print(data21.shape)"
   ]
  },
  {
   "cell_type": "markdown",
   "metadata": {},
   "source": [
    "### Чистка данных"
   ]
  },
  {
   "cell_type": "code",
   "execution_count": 52,
   "metadata": {},
   "outputs": [
    {
     "name": "stdout",
     "output_type": "stream",
     "text": [
      "Число признаков для 2019 года: 48\n",
      "Число признаков для 2020 года: 48\n",
      "Число признаков для 2021 года: 48\n",
      "\n",
      "\n",
      "['2016, Нематериальные активы, RUB', '2017, Нематериальные активы, RUB', '2018, Нематериальные активы, RUB', '2016, Основные средства , RUB', '2017, Основные средства , RUB', '2018, Основные средства , RUB', '2016, Внеоборотные активы, RUB', '2017, Внеоборотные активы, RUB', '2018, Внеоборотные активы, RUB', '2016, Дебиторская задолженность, RUB', '2017, Дебиторская задолженность, RUB', '2018, Дебиторская задолженность, RUB', '2016, Оборотные активы, RUB', '2017, Оборотные активы, RUB', '2018, Оборотные активы, RUB', '2016, Уставный капитал , RUB', '2017, Уставный капитал , RUB', '2018, Уставный капитал , RUB', '2016, Капитал и резервы, RUB', '2017, Капитал и резервы, RUB', '2018, Капитал и резервы, RUB', '2016, Заёмные средства (долгосрочные), RUB', '2017, Заёмные средства (долгосрочные), RUB', '2018, Заёмные средства (долгосрочные), RUB', '2016, Долгосрочные обязательства, RUB', '2017, Долгосрочные обязательства, RUB', '2018, Долгосрочные обязательства, RUB', '2016, Заёмные средства (краткосрочные), RUB', '2017, Заёмные средства (краткосрочные), RUB', '2018, Заёмные средства (краткосрочные), RUB', '2016, Кредиторская задолженность, RUB', '2017, Кредиторская задолженность, RUB', '2018, Кредиторская задолженность, RUB', '2016, Краткосрочные обязательства, RUB', '2017, Краткосрочные обязательства, RUB', '2018, Краткосрочные обязательства, RUB', '2016, Выручка, RUB', '2017, Выручка, RUB', '2018, Выручка, RUB', '2016, Себестоимость продаж, RUB', '2017, Себестоимость продаж, RUB', '2018, Себестоимость продаж, RUB', '2016, Прибыль (убыток) до налогообложения , RUB', '2017, Прибыль (убыток) до налогообложения , RUB', '2018, Прибыль (убыток) до налогообложения , RUB', '2016, Прибыль (убыток) от продажи, RUB', '2017, Прибыль (убыток) от продажи, RUB', '2018, Прибыль (убыток) от продажи, RUB']\n"
     ]
    }
   ],
   "source": [
    "feats_2019=[x for x in data19.columns if x.split(',')[0] in ('2018','2017','2016') and 'ПДЗ' not in x and 'RUB' in x]\n",
    "feats_2020=[x for x in data20.columns if x.split(',')[0] in ('2019','2018','2017') and 'ПДЗ' not in x and 'RUB' in x]\n",
    "feats_2021=[x for x in data21.columns if x.split(',')[0] in ('2020','2019','2018') and 'ПДЗ' not in x and 'RUB' in x]\n",
    "\n",
    "print(f'Число признаков для 2019 года: {len(feats_2019)}')\n",
    "print(f'Число признаков для 2020 года: {len(feats_2020)}')\n",
    "print(f'Число признаков для 2021 года: {len(feats_2021)}')\n",
    "print('\\n')\n",
    "print(feats_2019)"
   ]
  },
  {
   "cell_type": "markdown",
   "metadata": {},
   "source": [
    "#### Создаём таргеты"
   ]
  },
  {
   "cell_type": "code",
   "execution_count": 54,
   "metadata": {},
   "outputs": [],
   "source": [
    "trg_2019=[x for x in data19.columns if '2019' in x and 'Макс. ПДЗ' in x][0]\n",
    "trg_2020=[x for x in data20.columns if '2020' in x and 'Макс. ПДЗ' in x][0]"
   ]
  },
  {
   "cell_type": "markdown",
   "metadata": {},
   "source": [
    "#### Делаем новые датасеты"
   ]
  },
  {
   "cell_type": "code",
   "execution_count": 55,
   "metadata": {},
   "outputs": [],
   "source": [
    "data_2019_clean=pd.concat([data19['Наименование ДП'],data19[feats_2019],data19[trg_2019]],axis=1) # Обучающая выборка\n",
    "data_2020_clean=pd.concat([data20['Наименование ДП'],data20[feats_2020],data20[trg_2020]],axis=1) # Тестовая выборка\n",
    "data_2021_clean=pd.concat([data21['Наименование ДП'],data21[feats_2021]],axis=1)                  # Выборка для прогноза"
   ]
  },
  {
   "cell_type": "markdown",
   "metadata": {},
   "source": [
    "#### Убираем единицы измерения"
   ]
  },
  {
   "cell_type": "code",
   "execution_count": 56,
   "metadata": {},
   "outputs": [],
   "source": [
    "feats_2019_new=[x.split(', RUB')[0] for x in feats_2019]\n",
    "feats_2020_new=[x.split(', RUB')[0] for x in feats_2020]\n",
    "feats_2021_new=[x.split(', RUB')[0] for x in feats_2021]\n",
    "\n",
    "for i in range(len(feats_2019)):\n",
    "    data_2019_clean=data_2019_clean.rename({feats_2019[i]: feats_2019_new[i]},axis=1)\n",
    "    data_2020_clean=data_2020_clean.rename({feats_2020[i]: feats_2020_new[i]},axis=1)\n",
    "    data_2021_clean=data_2021_clean.rename({feats_2021[i]: feats_2021_new[i]},axis=1)"
   ]
  },
  {
   "cell_type": "markdown",
   "metadata": {},
   "source": [
    "#### Сохраняем в csv"
   ]
  },
  {
   "cell_type": "code",
   "execution_count": 57,
   "metadata": {},
   "outputs": [],
   "source": [
    "data_2019_clean.to_csv('df2019.csv')\n",
    "data_2020_clean.to_csv('df2020.csv')\n",
    "data_2021_clean.to_csv('df2021.csv')"
   ]
  }
 ],
 "metadata": {
  "kernelspec": {
   "display_name": "Python 3",
   "language": "python",
   "name": "python3"
  },
  "language_info": {
   "codemirror_mode": {
    "name": "ipython",
    "version": 3
   },
   "file_extension": ".py",
   "mimetype": "text/x-python",
   "name": "python",
   "nbconvert_exporter": "python",
   "pygments_lexer": "ipython3",
   "version": "3.8.5"
  }
 },
 "nbformat": 4,
 "nbformat_minor": 4
}
