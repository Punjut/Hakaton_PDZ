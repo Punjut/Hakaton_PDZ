{
 "cells": [
  {
   "cell_type": "code",
   "execution_count": 1,
   "metadata": {},
   "outputs": [],
   "source": [
    "import numpy as np\n",
    "import pandas as pd\n",
    "import itertools\n",
    "import matplotlib.pyplot as plt\n",
    "import plotly.express as px\n",
    "import plotly.graph_objects as go\n",
    "pd.options.display.max_columns = 999\n",
    "from sklearn.ensemble import ExtraTreesClassifier\n",
    "from sklearn.model_selection import GridSearchCV, RandomizedSearchCV\n",
    "from sklearn.linear_model import LogisticRegression\n",
    "from sklearn.tree import DecisionTreeClassifier\n",
    "from sklearn.model_selection import train_test_split\n",
    "from sklearn.model_selection import cross_val_score as cvs\n",
    "from sklearn.metrics import confusion_matrix,precision_recall_curve,roc_curve\n",
    "from sklearn.metrics import mean_absolute_error, recall_score, precision_score, roc_auc_score, average_precision_score,f1_score\n",
    "import lightgbm as lgb\n",
    "import catboost as cat\n",
    "import xgboost as xgb\n",
    "import re\n",
    "pd.options.display.max_columns = 999\n",
    "\n",
    "import warnings # Для игнора предупреждений\n",
    "warnings.filterwarnings(\"ignore\")"
   ]
  },
  {
   "cell_type": "markdown",
   "metadata": {},
   "source": [
    "#### Функция для построения confusion matrix"
   ]
  },
  {
   "cell_type": "code",
   "execution_count": 2,
   "metadata": {},
   "outputs": [],
   "source": [
    "def plot_confusion_matrix(cm, classes,\n",
    "                          normalize=False,\n",
    "                          title='Confusion matrix',\n",
    "                          cmap=plt.cm.Blues):\n",
    "\n",
    "    plt.imshow(cm, interpolation='nearest', cmap=cmap)\n",
    "    plt.title(title)\n",
    "    plt.colorbar()\n",
    "    tick_marks = np.arange(len(classes))\n",
    "    plt.xticks(tick_marks, classes, rotation=45)\n",
    "    plt.yticks(tick_marks, classes)\n",
    "\n",
    "    if normalize:\n",
    "        cm = cm.astype('float') / cm.sum(axis=1)[:, np.newaxis]\n",
    "        print(\"Normalized confusion matrix\")\n",
    "    else:\n",
    "        print('Confusion matrix, without normalization')\n",
    "\n",
    "    thresh = cm.max() / 2.\n",
    "    for i, j in itertools.product(range(cm.shape[0]), range(cm.shape[1])):\n",
    "        plt.text(j, i, cm[i, j],\n",
    "                 horizontalalignment=\"center\",\n",
    "                 color=\"white\" if cm[i, j] > thresh else \"black\")\n",
    "\n",
    "    plt.tight_layout()\n",
    "    plt.ylabel('True label')\n",
    "    plt.xlabel('Predicted label')"
   ]
  },
  {
   "cell_type": "markdown",
   "metadata": {},
   "source": [
    "#### Загружаем очищенные данные"
   ]
  },
  {
   "cell_type": "code",
   "execution_count": 104,
   "metadata": {
    "scrolled": true
   },
   "outputs": [
    {
     "data": {
      "text/html": [
       "<div>\n",
       "<style scoped>\n",
       "    .dataframe tbody tr th:only-of-type {\n",
       "        vertical-align: middle;\n",
       "    }\n",
       "\n",
       "    .dataframe tbody tr th {\n",
       "        vertical-align: top;\n",
       "    }\n",
       "\n",
       "    .dataframe thead th {\n",
       "        text-align: right;\n",
       "    }\n",
       "</style>\n",
       "<table border=\"1\" class=\"dataframe\">\n",
       "  <thead>\n",
       "    <tr style=\"text-align: right;\">\n",
       "      <th></th>\n",
       "      <th>1, cf_likv1</th>\n",
       "      <th>1, cf_likv2</th>\n",
       "      <th>1, cf_likv3</th>\n",
       "      <th>1, cf_ob1</th>\n",
       "      <th>1, cf_ob2</th>\n",
       "      <th>1, cf_ob3</th>\n",
       "      <th>1, cf_ob4</th>\n",
       "      <th>1, cf_ob5</th>\n",
       "      <th>1, cf_rent1</th>\n",
       "      <th>1, cf_rent2</th>\n",
       "      <th>1, cf_rent3</th>\n",
       "      <th>1, сf_rent4</th>\n",
       "      <th>1, сf_rent5</th>\n",
       "      <th>1, сf_rent6</th>\n",
       "      <th>1, cf_rent7</th>\n",
       "      <th>1, cf_ru1</th>\n",
       "      <th>1, cf_ru2</th>\n",
       "      <th>1, cf_ru3</th>\n",
       "      <th>1, cf_ru4</th>\n",
       "      <th>1, cf_ru5</th>\n",
       "      <th>1, cf_ru6</th>\n",
       "      <th>1, cf_ru7</th>\n",
       "      <th>1, cf_ru8</th>\n",
       "      <th>1, cf_fu1</th>\n",
       "      <th>1, cf_fu2</th>\n",
       "      <th>1, cf_fu3</th>\n",
       "      <th>1, cf_fu4</th>\n",
       "      <th>1, cf_fu5</th>\n",
       "      <th>1, cf_fu6</th>\n",
       "      <th>2, cf_likv1</th>\n",
       "      <th>2, cf_likv2</th>\n",
       "      <th>2, cf_likv3</th>\n",
       "      <th>2, cf_ob1</th>\n",
       "      <th>2, cf_ob2</th>\n",
       "      <th>2, cf_ob3</th>\n",
       "      <th>2, cf_ob4</th>\n",
       "      <th>2, cf_ob5</th>\n",
       "      <th>2, cf_rent1</th>\n",
       "      <th>2, cf_rent2</th>\n",
       "      <th>2, cf_rent3</th>\n",
       "      <th>2, сf_rent4</th>\n",
       "      <th>2, сf_rent5</th>\n",
       "      <th>2, сf_rent6</th>\n",
       "      <th>2, cf_rent7</th>\n",
       "      <th>2, cf_ru1</th>\n",
       "      <th>2, cf_ru2</th>\n",
       "      <th>2, cf_ru3</th>\n",
       "      <th>2, cf_ru4</th>\n",
       "      <th>2, cf_ru5</th>\n",
       "      <th>2, cf_ru6</th>\n",
       "      <th>2, cf_ru7</th>\n",
       "      <th>2, cf_ru8</th>\n",
       "      <th>2, cf_fu1</th>\n",
       "      <th>2, cf_fu2</th>\n",
       "      <th>2, cf_fu3</th>\n",
       "      <th>2, cf_fu4</th>\n",
       "      <th>2, cf_fu5</th>\n",
       "      <th>2, cf_fu6</th>\n",
       "      <th>3, cf_likv1</th>\n",
       "      <th>3, cf_likv2</th>\n",
       "      <th>3, cf_likv3</th>\n",
       "      <th>3, cf_ob1</th>\n",
       "      <th>3, cf_ob2</th>\n",
       "      <th>3, cf_ob3</th>\n",
       "      <th>3, cf_ob4</th>\n",
       "      <th>3, cf_ob5</th>\n",
       "      <th>3, cf_rent1</th>\n",
       "      <th>3, cf_rent2</th>\n",
       "      <th>3, cf_rent3</th>\n",
       "      <th>3, сf_rent4</th>\n",
       "      <th>3, сf_rent5</th>\n",
       "      <th>3, сf_rent6</th>\n",
       "      <th>3, cf_rent7</th>\n",
       "      <th>3, cf_ru1</th>\n",
       "      <th>3, cf_ru2</th>\n",
       "      <th>3, cf_ru3</th>\n",
       "      <th>3, cf_ru4</th>\n",
       "      <th>3, cf_ru5</th>\n",
       "      <th>3, cf_ru6</th>\n",
       "      <th>3, cf_ru7</th>\n",
       "      <th>3, cf_ru8</th>\n",
       "      <th>3, cf_fu1</th>\n",
       "      <th>3, cf_fu2</th>\n",
       "      <th>3, cf_fu3</th>\n",
       "      <th>3, cf_fu4</th>\n",
       "      <th>3, cf_fu5</th>\n",
       "      <th>3, cf_fu6</th>\n",
       "      <th>1-2, cf_likv1</th>\n",
       "      <th>2-3, cf_likv1</th>\n",
       "      <th>1-2, cf_likv2</th>\n",
       "      <th>2-3, cf_likv2</th>\n",
       "      <th>1-2, cf_likv3</th>\n",
       "      <th>2-3, cf_likv3</th>\n",
       "      <th>1-2, cf_ob1</th>\n",
       "      <th>2-3, cf_ob1</th>\n",
       "      <th>1-2, cf_ob2</th>\n",
       "      <th>2-3, cf_ob2</th>\n",
       "      <th>1-2, cf_ob3</th>\n",
       "      <th>2-3, cf_ob3</th>\n",
       "      <th>1-2, cf_ob4</th>\n",
       "      <th>2-3, cf_ob4</th>\n",
       "      <th>1-2, cf_ob5</th>\n",
       "      <th>2-3, cf_ob5</th>\n",
       "      <th>1-2, cf_rent1</th>\n",
       "      <th>2-3, cf_rent1</th>\n",
       "      <th>1-2, cf_rent2</th>\n",
       "      <th>2-3, cf_rent2</th>\n",
       "      <th>1-2, cf_rent3</th>\n",
       "      <th>2-3, cf_rent3</th>\n",
       "      <th>1-2, сf_rent4</th>\n",
       "      <th>2-3, сf_rent4</th>\n",
       "      <th>1-2, сf_rent5</th>\n",
       "      <th>2-3, сf_rent5</th>\n",
       "      <th>1-2, сf_rent6</th>\n",
       "      <th>2-3, сf_rent6</th>\n",
       "      <th>1-2, cf_rent7</th>\n",
       "      <th>2-3, cf_rent7</th>\n",
       "      <th>1-2, cf_ru1</th>\n",
       "      <th>2-3, cf_ru1</th>\n",
       "      <th>1-2, cf_ru2</th>\n",
       "      <th>2-3, cf_ru2</th>\n",
       "      <th>1-2, cf_ru3</th>\n",
       "      <th>2-3, cf_ru3</th>\n",
       "      <th>1-2, cf_ru4</th>\n",
       "      <th>2-3, cf_ru4</th>\n",
       "      <th>1-2, cf_ru5</th>\n",
       "      <th>2-3, cf_ru5</th>\n",
       "      <th>1-2, cf_ru6</th>\n",
       "      <th>2-3, cf_ru6</th>\n",
       "      <th>1-2, cf_ru7</th>\n",
       "      <th>2-3, cf_ru7</th>\n",
       "      <th>1-2, cf_ru8</th>\n",
       "      <th>2-3, cf_ru8</th>\n",
       "      <th>1-2, cf_fu1</th>\n",
       "      <th>2-3, cf_fu1</th>\n",
       "      <th>1-2, cf_fu2</th>\n",
       "      <th>2-3, cf_fu2</th>\n",
       "      <th>1-2, cf_fu3</th>\n",
       "      <th>2-3, cf_fu3</th>\n",
       "      <th>1-2, cf_fu4</th>\n",
       "      <th>2-3, cf_fu4</th>\n",
       "      <th>1-2, cf_fu5</th>\n",
       "      <th>2-3, cf_fu5</th>\n",
       "      <th>1-2, cf_fu6</th>\n",
       "      <th>2-3, cf_fu6</th>\n",
       "      <th>ПДЗ</th>\n",
       "      <th>target</th>\n",
       "    </tr>\n",
       "  </thead>\n",
       "  <tbody>\n",
       "    <tr>\n",
       "      <th>0</th>\n",
       "      <td>1.020214</td>\n",
       "      <td>0.975787</td>\n",
       "      <td>0.531527</td>\n",
       "      <td>6.094585</td>\n",
       "      <td>10.657441</td>\n",
       "      <td>6.762855</td>\n",
       "      <td>16.179594</td>\n",
       "      <td>0.713523</td>\n",
       "      <td>0.023532</td>\n",
       "      <td>0.021702</td>\n",
       "      <td>0.087606</td>\n",
       "      <td>0.325947</td>\n",
       "      <td>0.347832</td>\n",
       "      <td>1.901627</td>\n",
       "      <td>0.122779</td>\n",
       "      <td>0.052601</td>\n",
       "      <td>2.720623</td>\n",
       "      <td>0.019814</td>\n",
       "      <td>5.834154</td>\n",
       "      <td>0.634566</td>\n",
       "      <td>0.956453</td>\n",
       "      <td>0.111153</td>\n",
       "      <td>0.105925</td>\n",
       "      <td>0.268772</td>\n",
       "      <td>0.268772</td>\n",
       "      <td>0.171404</td>\n",
       "      <td>0.046069</td>\n",
       "      <td>-0.024814</td>\n",
       "      <td>0.019814</td>\n",
       "      <td>1.296635</td>\n",
       "      <td>1.226782</td>\n",
       "      <td>0.655178</td>\n",
       "      <td>7.058611</td>\n",
       "      <td>11.301351</td>\n",
       "      <td>9.348229</td>\n",
       "      <td>14.011003</td>\n",
       "      <td>0.75819</td>\n",
       "      <td>0.148945</td>\n",
       "      <td>0.184913</td>\n",
       "      <td>0.792946</td>\n",
       "      <td>2.075945</td>\n",
       "      <td>3.419407</td>\n",
       "      <td>100.0</td>\n",
       "      <td>1.045841</td>\n",
       "      <td>0.454103</td>\n",
       "      <td>1.618015</td>\n",
       "      <td>0.228773</td>\n",
       "      <td>100.0</td>\n",
       "      <td>0.827178</td>\n",
       "      <td>0.946127</td>\n",
       "      <td>0.13769</td>\n",
       "      <td>0.080178</td>\n",
       "      <td>0.381969</td>\n",
       "      <td>0.381969</td>\n",
       "      <td>0.0</td>\n",
       "      <td>0.0</td>\n",
       "      <td>0.184859</td>\n",
       "      <td>0.228773</td>\n",
       "      <td>1.238697</td>\n",
       "      <td>1.16859</td>\n",
       "      <td>0.625742</td>\n",
       "      <td>5.170578</td>\n",
       "      <td>7.443841</td>\n",
       "      <td>6.538386</td>\n",
       "      <td>9.980091</td>\n",
       "      <td>0.727897</td>\n",
       "      <td>0.122966</td>\n",
       "      <td>0.147426</td>\n",
       "      <td>0.448599</td>\n",
       "      <td>1.189552</td>\n",
       "      <td>1.682625</td>\n",
       "      <td>100.0</td>\n",
       "      <td>0.616294</td>\n",
       "      <td>0.371943</td>\n",
       "      <td>1.651707</td>\n",
       "      <td>0.1927</td>\n",
       "      <td>100.0</td>\n",
       "      <td>0.878362</td>\n",
       "      <td>0.943403</td>\n",
       "      <td>0.129559</td>\n",
       "      <td>0.08549</td>\n",
       "      <td>0.377116</td>\n",
       "      <td>0.377116</td>\n",
       "      <td>0.0</td>\n",
       "      <td>0.0</td>\n",
       "      <td>0.144268</td>\n",
       "      <td>0.1927</td>\n",
       "      <td>0.276421</td>\n",
       "      <td>-0.057938</td>\n",
       "      <td>0.250995</td>\n",
       "      <td>-0.058192</td>\n",
       "      <td>0.123651</td>\n",
       "      <td>-0.029437</td>\n",
       "      <td>0.964026</td>\n",
       "      <td>-1.888032</td>\n",
       "      <td>0.64391</td>\n",
       "      <td>-3.857511</td>\n",
       "      <td>2.585374</td>\n",
       "      <td>-2.809843</td>\n",
       "      <td>-2.168591</td>\n",
       "      <td>-4.030912</td>\n",
       "      <td>0.044667</td>\n",
       "      <td>-0.030293</td>\n",
       "      <td>0.125413</td>\n",
       "      <td>-0.025979</td>\n",
       "      <td>0.163211</td>\n",
       "      <td>-0.037487</td>\n",
       "      <td>0.70534</td>\n",
       "      <td>-0.344347</td>\n",
       "      <td>1.749997</td>\n",
       "      <td>-0.886392</td>\n",
       "      <td>3.071575</td>\n",
       "      <td>-1.736782</td>\n",
       "      <td>100.0</td>\n",
       "      <td>0.0</td>\n",
       "      <td>0.923062</td>\n",
       "      <td>-0.429547</td>\n",
       "      <td>0.401503</td>\n",
       "      <td>-0.08216</td>\n",
       "      <td>-1.102608</td>\n",
       "      <td>0.033692</td>\n",
       "      <td>0.208959</td>\n",
       "      <td>-0.036073</td>\n",
       "      <td>100.0</td>\n",
       "      <td>0.0</td>\n",
       "      <td>0.192611</td>\n",
       "      <td>0.051184</td>\n",
       "      <td>-0.010326</td>\n",
       "      <td>-0.002724</td>\n",
       "      <td>0.026537</td>\n",
       "      <td>-0.008131</td>\n",
       "      <td>-0.025748</td>\n",
       "      <td>0.005312</td>\n",
       "      <td>0.113197</td>\n",
       "      <td>-0.004853</td>\n",
       "      <td>0.113197</td>\n",
       "      <td>-0.004853</td>\n",
       "      <td>-0.171404</td>\n",
       "      <td>0.0</td>\n",
       "      <td>-0.046069</td>\n",
       "      <td>0.0</td>\n",
       "      <td>0.209673</td>\n",
       "      <td>-0.040591</td>\n",
       "      <td>0.208959</td>\n",
       "      <td>-0.036073</td>\n",
       "      <td>0</td>\n",
       "      <td>0</td>\n",
       "    </tr>\n",
       "  </tbody>\n",
       "</table>\n",
       "</div>"
      ],
      "text/plain": [
       "   1, cf_likv1  1, cf_likv2  1, cf_likv3  1, cf_ob1  1, cf_ob2  1, cf_ob3  \\\n",
       "0     1.020214     0.975787     0.531527   6.094585  10.657441   6.762855   \n",
       "\n",
       "   1, cf_ob4  1, cf_ob5  1, cf_rent1  1, cf_rent2  1, cf_rent3  1, сf_rent4  \\\n",
       "0  16.179594   0.713523     0.023532     0.021702     0.087606     0.325947   \n",
       "\n",
       "   1, сf_rent5  1, сf_rent6  1, cf_rent7  1, cf_ru1  1, cf_ru2  1, cf_ru3  \\\n",
       "0     0.347832     1.901627     0.122779   0.052601   2.720623   0.019814   \n",
       "\n",
       "   1, cf_ru4  1, cf_ru5  1, cf_ru6  1, cf_ru7  1, cf_ru8  1, cf_fu1  \\\n",
       "0   5.834154   0.634566   0.956453   0.111153   0.105925   0.268772   \n",
       "\n",
       "   1, cf_fu2  1, cf_fu3  1, cf_fu4  1, cf_fu5  1, cf_fu6  2, cf_likv1  \\\n",
       "0   0.268772   0.171404   0.046069  -0.024814   0.019814     1.296635   \n",
       "\n",
       "   2, cf_likv2  2, cf_likv3  2, cf_ob1  2, cf_ob2  2, cf_ob3  2, cf_ob4  \\\n",
       "0     1.226782     0.655178   7.058611  11.301351   9.348229  14.011003   \n",
       "\n",
       "   2, cf_ob5  2, cf_rent1  2, cf_rent2  2, cf_rent3  2, сf_rent4  2, сf_rent5  \\\n",
       "0    0.75819     0.148945     0.184913     0.792946     2.075945     3.419407   \n",
       "\n",
       "   2, сf_rent6  2, cf_rent7  2, cf_ru1  2, cf_ru2  2, cf_ru3  2, cf_ru4  \\\n",
       "0        100.0     1.045841   0.454103   1.618015   0.228773      100.0   \n",
       "\n",
       "   2, cf_ru5  2, cf_ru6  2, cf_ru7  2, cf_ru8  2, cf_fu1  2, cf_fu2  \\\n",
       "0   0.827178   0.946127    0.13769   0.080178   0.381969   0.381969   \n",
       "\n",
       "   2, cf_fu3  2, cf_fu4  2, cf_fu5  2, cf_fu6  3, cf_likv1  3, cf_likv2  \\\n",
       "0        0.0        0.0   0.184859   0.228773     1.238697      1.16859   \n",
       "\n",
       "   3, cf_likv3  3, cf_ob1  3, cf_ob2  3, cf_ob3  3, cf_ob4  3, cf_ob5  \\\n",
       "0     0.625742   5.170578   7.443841   6.538386   9.980091   0.727897   \n",
       "\n",
       "   3, cf_rent1  3, cf_rent2  3, cf_rent3  3, сf_rent4  3, сf_rent5  \\\n",
       "0     0.122966     0.147426     0.448599     1.189552     1.682625   \n",
       "\n",
       "   3, сf_rent6  3, cf_rent7  3, cf_ru1  3, cf_ru2  3, cf_ru3  3, cf_ru4  \\\n",
       "0        100.0     0.616294   0.371943   1.651707     0.1927      100.0   \n",
       "\n",
       "   3, cf_ru5  3, cf_ru6  3, cf_ru7  3, cf_ru8  3, cf_fu1  3, cf_fu2  \\\n",
       "0   0.878362   0.943403   0.129559    0.08549   0.377116   0.377116   \n",
       "\n",
       "   3, cf_fu3  3, cf_fu4  3, cf_fu5  3, cf_fu6  1-2, cf_likv1  2-3, cf_likv1  \\\n",
       "0        0.0        0.0   0.144268     0.1927       0.276421      -0.057938   \n",
       "\n",
       "   1-2, cf_likv2  2-3, cf_likv2  1-2, cf_likv3  2-3, cf_likv3  1-2, cf_ob1  \\\n",
       "0       0.250995      -0.058192       0.123651      -0.029437     0.964026   \n",
       "\n",
       "   2-3, cf_ob1  1-2, cf_ob2  2-3, cf_ob2  1-2, cf_ob3  2-3, cf_ob3  \\\n",
       "0    -1.888032      0.64391    -3.857511     2.585374    -2.809843   \n",
       "\n",
       "   1-2, cf_ob4  2-3, cf_ob4  1-2, cf_ob5  2-3, cf_ob5  1-2, cf_rent1  \\\n",
       "0    -2.168591    -4.030912     0.044667    -0.030293       0.125413   \n",
       "\n",
       "   2-3, cf_rent1  1-2, cf_rent2  2-3, cf_rent2  1-2, cf_rent3  2-3, cf_rent3  \\\n",
       "0      -0.025979       0.163211      -0.037487        0.70534      -0.344347   \n",
       "\n",
       "   1-2, сf_rent4  2-3, сf_rent4  1-2, сf_rent5  2-3, сf_rent5  1-2, сf_rent6  \\\n",
       "0       1.749997      -0.886392       3.071575      -1.736782          100.0   \n",
       "\n",
       "   2-3, сf_rent6  1-2, cf_rent7  2-3, cf_rent7  1-2, cf_ru1  2-3, cf_ru1  \\\n",
       "0            0.0       0.923062      -0.429547     0.401503     -0.08216   \n",
       "\n",
       "   1-2, cf_ru2  2-3, cf_ru2  1-2, cf_ru3  2-3, cf_ru3  1-2, cf_ru4  \\\n",
       "0    -1.102608     0.033692     0.208959    -0.036073        100.0   \n",
       "\n",
       "   2-3, cf_ru4  1-2, cf_ru5  2-3, cf_ru5  1-2, cf_ru6  2-3, cf_ru6  \\\n",
       "0          0.0     0.192611     0.051184    -0.010326    -0.002724   \n",
       "\n",
       "   1-2, cf_ru7  2-3, cf_ru7  1-2, cf_ru8  2-3, cf_ru8  1-2, cf_fu1  \\\n",
       "0     0.026537    -0.008131    -0.025748     0.005312     0.113197   \n",
       "\n",
       "   2-3, cf_fu1  1-2, cf_fu2  2-3, cf_fu2  1-2, cf_fu3  2-3, cf_fu3  \\\n",
       "0    -0.004853     0.113197    -0.004853    -0.171404          0.0   \n",
       "\n",
       "   1-2, cf_fu4  2-3, cf_fu4  1-2, cf_fu5  2-3, cf_fu5  1-2, cf_fu6  \\\n",
       "0    -0.046069          0.0     0.209673    -0.040591     0.208959   \n",
       "\n",
       "   2-3, cf_fu6  ПДЗ  target  \n",
       "0    -0.036073    0       0  "
      ]
     },
     "execution_count": 104,
     "metadata": {},
     "output_type": "execute_result"
    }
   ],
   "source": [
    "data19=pd.read_csv('df2019_model.csv',index_col=0)\n",
    "data20=pd.read_csv('df2020_model.csv',index_col=0)\n",
    "\n",
    "data19.head(1)"
   ]
  },
  {
   "cell_type": "markdown",
   "metadata": {},
   "source": [
    "#### Выделяем признаки и таргет"
   ]
  },
  {
   "cell_type": "code",
   "execution_count": 105,
   "metadata": {},
   "outputs": [],
   "source": [
    "X=data19[[x for x in data19.columns if 'Наименование ДП' not in x and 'ПДЗ' not in x and 'target' not in x]]\n",
    "y=data19['target']"
   ]
  },
  {
   "cell_type": "markdown",
   "metadata": {},
   "source": [
    "#### Переименуем все фичи (чисто для LightGBM)"
   ]
  },
  {
   "cell_type": "code",
   "execution_count": 106,
   "metadata": {},
   "outputs": [],
   "source": [
    "for i in range(len(X.columns)):\n",
    "    X=X.rename({X.columns[i]: X.columns[i].replace(',','_')},axis=1)"
   ]
  },
  {
   "cell_type": "markdown",
   "metadata": {},
   "source": [
    "#### Считаем распределение уровней таргета"
   ]
  },
  {
   "cell_type": "code",
   "execution_count": 107,
   "metadata": {},
   "outputs": [
    {
     "name": "stdout",
     "output_type": "stream",
     "text": [
      "Доля класса 0: 41.62%\n",
      "Доля класса 1: 45.96%\n",
      "Доля класса 2: 6.71%\n",
      "Доля класса 3: 1.58%\n",
      "Доля класса 4: 4.14%\n"
     ]
    }
   ],
   "source": [
    "for k in set(y):\n",
    "    print(f'Доля класса {k}: {round(len(y[y==k])/len(y)*100,2)}%')"
   ]
  },
  {
   "cell_type": "markdown",
   "metadata": {},
   "source": [
    "### Модель будем строить по данным 2019 года"
   ]
  },
  {
   "cell_type": "markdown",
   "metadata": {},
   "source": [
    "**Гиперпараметры подбираем вручную на кросс-валидации**"
   ]
  },
  {
   "cell_type": "code",
   "execution_count": 150,
   "metadata": {
    "scrolled": false
   },
   "outputs": [
    {
     "name": "stdout",
     "output_type": "stream",
     "text": [
      "[LightGBM] [Warning] min_data_in_leaf is set=40, min_child_samples=20 will be ignored. Current value: min_data_in_leaf=40\n",
      "[LightGBM] [Warning] min_data_in_leaf is set=40, min_child_samples=20 will be ignored. Current value: min_data_in_leaf=40\n",
      "[LightGBM] [Warning] min_data_in_leaf is set=40, min_child_samples=20 will be ignored. Current value: min_data_in_leaf=40\n",
      "[LightGBM] [Warning] min_data_in_leaf is set=40, min_child_samples=20 will be ignored. Current value: min_data_in_leaf=40\n",
      "[LightGBM] [Warning] min_data_in_leaf is set=40, min_child_samples=20 will be ignored. Current value: min_data_in_leaf=40\n",
      "[LightGBM] [Warning] min_data_in_leaf is set=40, min_child_samples=20 will be ignored. Current value: min_data_in_leaf=40\n",
      "[LightGBM] [Warning] min_data_in_leaf is set=40, min_child_samples=20 will be ignored. Current value: min_data_in_leaf=40\n",
      "[LightGBM] [Warning] min_data_in_leaf is set=40, min_child_samples=20 will be ignored. Current value: min_data_in_leaf=40\n",
      "[LightGBM] [Warning] min_data_in_leaf is set=40, min_child_samples=20 will be ignored. Current value: min_data_in_leaf=40\n",
      "[LightGBM] [Warning] min_data_in_leaf is set=40, min_child_samples=20 will be ignored. Current value: min_data_in_leaf=40\n",
      "--------------------------------------------------------------------\n",
      "[0.35619771 0.38191914 0.43070484 0.44162152 0.42429706]\n",
      "Средний F1: 0.407\n",
      "--------------------------------------------------------------------\n",
      "[0.44642103 0.61571709 0.56917609 0.64258518 0.59185512]\n",
      "Средний ROC AUC: 0.573\n",
      "Wall time: 10.4 s\n"
     ]
    }
   ],
   "source": [
    "%%time\n",
    "params={\n",
    "             'min_data_in_leaf':40,       \n",
    "             'learning_rate' : 0.001,\n",
    "             'max_depth': 2,\n",
    "             'objective': 'lambdarank',\n",
    "             'n_estimators': 1000,\n",
    "             'boosting_type': 'goss',\n",
    "             'random_state': 5 # 5 - 0.5042\n",
    "}\n",
    "\n",
    "model=lgb.LGBMClassifier(**params).fit(X,y)\n",
    "                                      \n",
    "f1_list=cvs(model,X,y,scoring='f1_weighted')          \n",
    "roc_auc_list=cvs(model,X,y,scoring='roc_auc_ovr') \n",
    "print('--------------------------------------------------------------------')\n",
    "print(f1_list)\n",
    "print(f'Средний F1: {round(np.mean(f1_list),3)}')\n",
    "print('--------------------------------------------------------------------')\n",
    "print(roc_auc_list)\n",
    "print(f'Средний ROC AUC: {round(np.mean(roc_auc_list),3)}')"
   ]
  },
  {
   "cell_type": "markdown",
   "metadata": {},
   "source": [
    "#### Смотрим важность признаков"
   ]
  },
  {
   "cell_type": "code",
   "execution_count": 151,
   "metadata": {},
   "outputs": [
    {
     "data": {
      "application/vnd.plotly.v1+json": {
       "config": {
        "plotlyServerURL": "https://plot.ly"
       },
       "data": [
        {
         "alignmentgroup": "True",
         "hovertemplate": "Feature=%{x}<br>Feature Importances=%{y}<extra></extra>",
         "legendgroup": "",
         "marker": {
          "color": "#636efa"
         },
         "name": "",
         "offsetgroup": "",
         "orientation": "v",
         "showlegend": false,
         "textposition": "auto",
         "type": "bar",
         "x": [
          "1_ cf_likv1",
          "1_ cf_likv2",
          "1_ cf_likv3",
          "1_ cf_ob1",
          "1_ cf_ob2",
          "1_ cf_ob3",
          "1_ cf_ob4",
          "1_ cf_ob5",
          "1_ cf_rent1",
          "1_ cf_rent2",
          "1_ cf_rent3",
          "1_ сf_rent4",
          "1_ сf_rent5",
          "1_ сf_rent6",
          "1_ cf_rent7",
          "1_ cf_ru1",
          "1_ cf_ru2",
          "1_ cf_ru3",
          "1_ cf_ru4",
          "1_ cf_ru5",
          "1_ cf_ru6",
          "1_ cf_ru7",
          "1_ cf_ru8",
          "1_ cf_fu1",
          "1_ cf_fu2",
          "1_ cf_fu3",
          "1_ cf_fu4",
          "1_ cf_fu5",
          "1_ cf_fu6",
          "2_ cf_likv1",
          "2_ cf_likv2",
          "2_ cf_likv3",
          "2_ cf_ob1",
          "2_ cf_ob2",
          "2_ cf_ob3",
          "2_ cf_ob4",
          "2_ cf_ob5",
          "2_ cf_rent1",
          "2_ cf_rent2",
          "2_ cf_rent3",
          "2_ сf_rent4",
          "2_ сf_rent5",
          "2_ сf_rent6",
          "2_ cf_rent7",
          "2_ cf_ru1",
          "2_ cf_ru2",
          "2_ cf_ru3",
          "2_ cf_ru4",
          "2_ cf_ru5",
          "2_ cf_ru6",
          "2_ cf_ru7",
          "2_ cf_ru8",
          "2_ cf_fu1",
          "2_ cf_fu2",
          "2_ cf_fu3",
          "2_ cf_fu4",
          "2_ cf_fu5",
          "2_ cf_fu6",
          "3_ cf_likv1",
          "3_ cf_likv2",
          "3_ cf_likv3",
          "3_ cf_ob1",
          "3_ cf_ob2",
          "3_ cf_ob3",
          "3_ cf_ob4",
          "3_ cf_ob5",
          "3_ cf_rent1",
          "3_ cf_rent2",
          "3_ cf_rent3",
          "3_ сf_rent4",
          "3_ сf_rent5",
          "3_ сf_rent6",
          "3_ cf_rent7",
          "3_ cf_ru1",
          "3_ cf_ru2",
          "3_ cf_ru3",
          "3_ cf_ru4",
          "3_ cf_ru5",
          "3_ cf_ru6",
          "3_ cf_ru7",
          "3_ cf_ru8",
          "3_ cf_fu1",
          "3_ cf_fu2",
          "3_ cf_fu3",
          "3_ cf_fu4",
          "3_ cf_fu5",
          "3_ cf_fu6",
          "1-2_ cf_likv1",
          "2-3_ cf_likv1",
          "1-2_ cf_likv2",
          "2-3_ cf_likv2",
          "1-2_ cf_likv3",
          "2-3_ cf_likv3",
          "1-2_ cf_ob1",
          "2-3_ cf_ob1",
          "1-2_ cf_ob2",
          "2-3_ cf_ob2",
          "1-2_ cf_ob3",
          "2-3_ cf_ob3",
          "1-2_ cf_ob4",
          "2-3_ cf_ob4",
          "1-2_ cf_ob5",
          "2-3_ cf_ob5",
          "1-2_ cf_rent1",
          "2-3_ cf_rent1",
          "1-2_ cf_rent2",
          "2-3_ cf_rent2",
          "1-2_ cf_rent3",
          "2-3_ cf_rent3",
          "1-2_ сf_rent4",
          "2-3_ сf_rent4",
          "1-2_ сf_rent5",
          "2-3_ сf_rent5",
          "1-2_ сf_rent6",
          "2-3_ сf_rent6",
          "1-2_ cf_rent7",
          "2-3_ cf_rent7",
          "1-2_ cf_ru1",
          "2-3_ cf_ru1",
          "1-2_ cf_ru2",
          "2-3_ cf_ru2",
          "1-2_ cf_ru3",
          "2-3_ cf_ru3",
          "1-2_ cf_ru4",
          "2-3_ cf_ru4",
          "1-2_ cf_ru5",
          "2-3_ cf_ru5",
          "1-2_ cf_ru6",
          "2-3_ cf_ru6",
          "1-2_ cf_ru7",
          "2-3_ cf_ru7",
          "1-2_ cf_ru8",
          "2-3_ cf_ru8",
          "1-2_ cf_fu1",
          "2-3_ cf_fu1",
          "1-2_ cf_fu2",
          "2-3_ cf_fu2",
          "1-2_ cf_fu3",
          "2-3_ cf_fu3",
          "1-2_ cf_fu4",
          "2-3_ cf_fu4",
          "1-2_ cf_fu5",
          "2-3_ cf_fu5",
          "1-2_ cf_fu6",
          "2-3_ cf_fu6"
         ],
         "xaxis": "x",
         "y": [
          1,
          151,
          43,
          10,
          9,
          569,
          180,
          0,
          191,
          43,
          0,
          0,
          1,
          0,
          11,
          77,
          156,
          0,
          197,
          0,
          142,
          201,
          159,
          415,
          134,
          127,
          303,
          0,
          0,
          179,
          0,
          0,
          157,
          0,
          193,
          122,
          154,
          260,
          0,
          9,
          0,
          0,
          0,
          267,
          411,
          27,
          0,
          0,
          75,
          98,
          67,
          311,
          221,
          95,
          82,
          26,
          0,
          0,
          0,
          0,
          0,
          125,
          46,
          0,
          0,
          0,
          0,
          101,
          265,
          148,
          0,
          0,
          591,
          26,
          84,
          57,
          109,
          9,
          0,
          339,
          91,
          0,
          0,
          269,
          0,
          17,
          0,
          165,
          28,
          234,
          7,
          3,
          130,
          28,
          0,
          275,
          0,
          49,
          65,
          215,
          49,
          0,
          229,
          154,
          121,
          13,
          182,
          0,
          133,
          0,
          0,
          0,
          0,
          71,
          0,
          5,
          0,
          88,
          46,
          67,
          13,
          106,
          15,
          14,
          63,
          0,
          219,
          257,
          51,
          111,
          15,
          216,
          232,
          72,
          0,
          51,
          116,
          36,
          28,
          53,
          42,
          222,
          4,
          0,
          0
         ],
         "yaxis": "y"
        }
       ],
       "layout": {
        "barmode": "relative",
        "legend": {
         "tracegroupgap": 0
        },
        "template": {
         "data": {
          "bar": [
           {
            "error_x": {
             "color": "#2a3f5f"
            },
            "error_y": {
             "color": "#2a3f5f"
            },
            "marker": {
             "line": {
              "color": "#E5ECF6",
              "width": 0.5
             }
            },
            "type": "bar"
           }
          ],
          "barpolar": [
           {
            "marker": {
             "line": {
              "color": "#E5ECF6",
              "width": 0.5
             }
            },
            "type": "barpolar"
           }
          ],
          "carpet": [
           {
            "aaxis": {
             "endlinecolor": "#2a3f5f",
             "gridcolor": "white",
             "linecolor": "white",
             "minorgridcolor": "white",
             "startlinecolor": "#2a3f5f"
            },
            "baxis": {
             "endlinecolor": "#2a3f5f",
             "gridcolor": "white",
             "linecolor": "white",
             "minorgridcolor": "white",
             "startlinecolor": "#2a3f5f"
            },
            "type": "carpet"
           }
          ],
          "choropleth": [
           {
            "colorbar": {
             "outlinewidth": 0,
             "ticks": ""
            },
            "type": "choropleth"
           }
          ],
          "contour": [
           {
            "colorbar": {
             "outlinewidth": 0,
             "ticks": ""
            },
            "colorscale": [
             [
              0,
              "#0d0887"
             ],
             [
              0.1111111111111111,
              "#46039f"
             ],
             [
              0.2222222222222222,
              "#7201a8"
             ],
             [
              0.3333333333333333,
              "#9c179e"
             ],
             [
              0.4444444444444444,
              "#bd3786"
             ],
             [
              0.5555555555555556,
              "#d8576b"
             ],
             [
              0.6666666666666666,
              "#ed7953"
             ],
             [
              0.7777777777777778,
              "#fb9f3a"
             ],
             [
              0.8888888888888888,
              "#fdca26"
             ],
             [
              1,
              "#f0f921"
             ]
            ],
            "type": "contour"
           }
          ],
          "contourcarpet": [
           {
            "colorbar": {
             "outlinewidth": 0,
             "ticks": ""
            },
            "type": "contourcarpet"
           }
          ],
          "heatmap": [
           {
            "colorbar": {
             "outlinewidth": 0,
             "ticks": ""
            },
            "colorscale": [
             [
              0,
              "#0d0887"
             ],
             [
              0.1111111111111111,
              "#46039f"
             ],
             [
              0.2222222222222222,
              "#7201a8"
             ],
             [
              0.3333333333333333,
              "#9c179e"
             ],
             [
              0.4444444444444444,
              "#bd3786"
             ],
             [
              0.5555555555555556,
              "#d8576b"
             ],
             [
              0.6666666666666666,
              "#ed7953"
             ],
             [
              0.7777777777777778,
              "#fb9f3a"
             ],
             [
              0.8888888888888888,
              "#fdca26"
             ],
             [
              1,
              "#f0f921"
             ]
            ],
            "type": "heatmap"
           }
          ],
          "heatmapgl": [
           {
            "colorbar": {
             "outlinewidth": 0,
             "ticks": ""
            },
            "colorscale": [
             [
              0,
              "#0d0887"
             ],
             [
              0.1111111111111111,
              "#46039f"
             ],
             [
              0.2222222222222222,
              "#7201a8"
             ],
             [
              0.3333333333333333,
              "#9c179e"
             ],
             [
              0.4444444444444444,
              "#bd3786"
             ],
             [
              0.5555555555555556,
              "#d8576b"
             ],
             [
              0.6666666666666666,
              "#ed7953"
             ],
             [
              0.7777777777777778,
              "#fb9f3a"
             ],
             [
              0.8888888888888888,
              "#fdca26"
             ],
             [
              1,
              "#f0f921"
             ]
            ],
            "type": "heatmapgl"
           }
          ],
          "histogram": [
           {
            "marker": {
             "colorbar": {
              "outlinewidth": 0,
              "ticks": ""
             }
            },
            "type": "histogram"
           }
          ],
          "histogram2d": [
           {
            "colorbar": {
             "outlinewidth": 0,
             "ticks": ""
            },
            "colorscale": [
             [
              0,
              "#0d0887"
             ],
             [
              0.1111111111111111,
              "#46039f"
             ],
             [
              0.2222222222222222,
              "#7201a8"
             ],
             [
              0.3333333333333333,
              "#9c179e"
             ],
             [
              0.4444444444444444,
              "#bd3786"
             ],
             [
              0.5555555555555556,
              "#d8576b"
             ],
             [
              0.6666666666666666,
              "#ed7953"
             ],
             [
              0.7777777777777778,
              "#fb9f3a"
             ],
             [
              0.8888888888888888,
              "#fdca26"
             ],
             [
              1,
              "#f0f921"
             ]
            ],
            "type": "histogram2d"
           }
          ],
          "histogram2dcontour": [
           {
            "colorbar": {
             "outlinewidth": 0,
             "ticks": ""
            },
            "colorscale": [
             [
              0,
              "#0d0887"
             ],
             [
              0.1111111111111111,
              "#46039f"
             ],
             [
              0.2222222222222222,
              "#7201a8"
             ],
             [
              0.3333333333333333,
              "#9c179e"
             ],
             [
              0.4444444444444444,
              "#bd3786"
             ],
             [
              0.5555555555555556,
              "#d8576b"
             ],
             [
              0.6666666666666666,
              "#ed7953"
             ],
             [
              0.7777777777777778,
              "#fb9f3a"
             ],
             [
              0.8888888888888888,
              "#fdca26"
             ],
             [
              1,
              "#f0f921"
             ]
            ],
            "type": "histogram2dcontour"
           }
          ],
          "mesh3d": [
           {
            "colorbar": {
             "outlinewidth": 0,
             "ticks": ""
            },
            "type": "mesh3d"
           }
          ],
          "parcoords": [
           {
            "line": {
             "colorbar": {
              "outlinewidth": 0,
              "ticks": ""
             }
            },
            "type": "parcoords"
           }
          ],
          "pie": [
           {
            "automargin": true,
            "type": "pie"
           }
          ],
          "scatter": [
           {
            "marker": {
             "colorbar": {
              "outlinewidth": 0,
              "ticks": ""
             }
            },
            "type": "scatter"
           }
          ],
          "scatter3d": [
           {
            "line": {
             "colorbar": {
              "outlinewidth": 0,
              "ticks": ""
             }
            },
            "marker": {
             "colorbar": {
              "outlinewidth": 0,
              "ticks": ""
             }
            },
            "type": "scatter3d"
           }
          ],
          "scattercarpet": [
           {
            "marker": {
             "colorbar": {
              "outlinewidth": 0,
              "ticks": ""
             }
            },
            "type": "scattercarpet"
           }
          ],
          "scattergeo": [
           {
            "marker": {
             "colorbar": {
              "outlinewidth": 0,
              "ticks": ""
             }
            },
            "type": "scattergeo"
           }
          ],
          "scattergl": [
           {
            "marker": {
             "colorbar": {
              "outlinewidth": 0,
              "ticks": ""
             }
            },
            "type": "scattergl"
           }
          ],
          "scattermapbox": [
           {
            "marker": {
             "colorbar": {
              "outlinewidth": 0,
              "ticks": ""
             }
            },
            "type": "scattermapbox"
           }
          ],
          "scatterpolar": [
           {
            "marker": {
             "colorbar": {
              "outlinewidth": 0,
              "ticks": ""
             }
            },
            "type": "scatterpolar"
           }
          ],
          "scatterpolargl": [
           {
            "marker": {
             "colorbar": {
              "outlinewidth": 0,
              "ticks": ""
             }
            },
            "type": "scatterpolargl"
           }
          ],
          "scatterternary": [
           {
            "marker": {
             "colorbar": {
              "outlinewidth": 0,
              "ticks": ""
             }
            },
            "type": "scatterternary"
           }
          ],
          "surface": [
           {
            "colorbar": {
             "outlinewidth": 0,
             "ticks": ""
            },
            "colorscale": [
             [
              0,
              "#0d0887"
             ],
             [
              0.1111111111111111,
              "#46039f"
             ],
             [
              0.2222222222222222,
              "#7201a8"
             ],
             [
              0.3333333333333333,
              "#9c179e"
             ],
             [
              0.4444444444444444,
              "#bd3786"
             ],
             [
              0.5555555555555556,
              "#d8576b"
             ],
             [
              0.6666666666666666,
              "#ed7953"
             ],
             [
              0.7777777777777778,
              "#fb9f3a"
             ],
             [
              0.8888888888888888,
              "#fdca26"
             ],
             [
              1,
              "#f0f921"
             ]
            ],
            "type": "surface"
           }
          ],
          "table": [
           {
            "cells": {
             "fill": {
              "color": "#EBF0F8"
             },
             "line": {
              "color": "white"
             }
            },
            "header": {
             "fill": {
              "color": "#C8D4E3"
             },
             "line": {
              "color": "white"
             }
            },
            "type": "table"
           }
          ]
         },
         "layout": {
          "annotationdefaults": {
           "arrowcolor": "#2a3f5f",
           "arrowhead": 0,
           "arrowwidth": 1
          },
          "autotypenumbers": "strict",
          "coloraxis": {
           "colorbar": {
            "outlinewidth": 0,
            "ticks": ""
           }
          },
          "colorscale": {
           "diverging": [
            [
             0,
             "#8e0152"
            ],
            [
             0.1,
             "#c51b7d"
            ],
            [
             0.2,
             "#de77ae"
            ],
            [
             0.3,
             "#f1b6da"
            ],
            [
             0.4,
             "#fde0ef"
            ],
            [
             0.5,
             "#f7f7f7"
            ],
            [
             0.6,
             "#e6f5d0"
            ],
            [
             0.7,
             "#b8e186"
            ],
            [
             0.8,
             "#7fbc41"
            ],
            [
             0.9,
             "#4d9221"
            ],
            [
             1,
             "#276419"
            ]
           ],
           "sequential": [
            [
             0,
             "#0d0887"
            ],
            [
             0.1111111111111111,
             "#46039f"
            ],
            [
             0.2222222222222222,
             "#7201a8"
            ],
            [
             0.3333333333333333,
             "#9c179e"
            ],
            [
             0.4444444444444444,
             "#bd3786"
            ],
            [
             0.5555555555555556,
             "#d8576b"
            ],
            [
             0.6666666666666666,
             "#ed7953"
            ],
            [
             0.7777777777777778,
             "#fb9f3a"
            ],
            [
             0.8888888888888888,
             "#fdca26"
            ],
            [
             1,
             "#f0f921"
            ]
           ],
           "sequentialminus": [
            [
             0,
             "#0d0887"
            ],
            [
             0.1111111111111111,
             "#46039f"
            ],
            [
             0.2222222222222222,
             "#7201a8"
            ],
            [
             0.3333333333333333,
             "#9c179e"
            ],
            [
             0.4444444444444444,
             "#bd3786"
            ],
            [
             0.5555555555555556,
             "#d8576b"
            ],
            [
             0.6666666666666666,
             "#ed7953"
            ],
            [
             0.7777777777777778,
             "#fb9f3a"
            ],
            [
             0.8888888888888888,
             "#fdca26"
            ],
            [
             1,
             "#f0f921"
            ]
           ]
          },
          "colorway": [
           "#636efa",
           "#EF553B",
           "#00cc96",
           "#ab63fa",
           "#FFA15A",
           "#19d3f3",
           "#FF6692",
           "#B6E880",
           "#FF97FF",
           "#FECB52"
          ],
          "font": {
           "color": "#2a3f5f"
          },
          "geo": {
           "bgcolor": "white",
           "lakecolor": "white",
           "landcolor": "#E5ECF6",
           "showlakes": true,
           "showland": true,
           "subunitcolor": "white"
          },
          "hoverlabel": {
           "align": "left"
          },
          "hovermode": "closest",
          "mapbox": {
           "style": "light"
          },
          "paper_bgcolor": "white",
          "plot_bgcolor": "#E5ECF6",
          "polar": {
           "angularaxis": {
            "gridcolor": "white",
            "linecolor": "white",
            "ticks": ""
           },
           "bgcolor": "#E5ECF6",
           "radialaxis": {
            "gridcolor": "white",
            "linecolor": "white",
            "ticks": ""
           }
          },
          "scene": {
           "xaxis": {
            "backgroundcolor": "#E5ECF6",
            "gridcolor": "white",
            "gridwidth": 2,
            "linecolor": "white",
            "showbackground": true,
            "ticks": "",
            "zerolinecolor": "white"
           },
           "yaxis": {
            "backgroundcolor": "#E5ECF6",
            "gridcolor": "white",
            "gridwidth": 2,
            "linecolor": "white",
            "showbackground": true,
            "ticks": "",
            "zerolinecolor": "white"
           },
           "zaxis": {
            "backgroundcolor": "#E5ECF6",
            "gridcolor": "white",
            "gridwidth": 2,
            "linecolor": "white",
            "showbackground": true,
            "ticks": "",
            "zerolinecolor": "white"
           }
          },
          "shapedefaults": {
           "line": {
            "color": "#2a3f5f"
           }
          },
          "ternary": {
           "aaxis": {
            "gridcolor": "white",
            "linecolor": "white",
            "ticks": ""
           },
           "baxis": {
            "gridcolor": "white",
            "linecolor": "white",
            "ticks": ""
           },
           "bgcolor": "#E5ECF6",
           "caxis": {
            "gridcolor": "white",
            "linecolor": "white",
            "ticks": ""
           }
          },
          "title": {
           "x": 0.05
          },
          "xaxis": {
           "automargin": true,
           "gridcolor": "white",
           "linecolor": "white",
           "ticks": "",
           "title": {
            "standoff": 15
           },
           "zerolinecolor": "white",
           "zerolinewidth": 2
          },
          "yaxis": {
           "automargin": true,
           "gridcolor": "white",
           "linecolor": "white",
           "ticks": "",
           "title": {
            "standoff": 15
           },
           "zerolinecolor": "white",
           "zerolinewidth": 2
          }
         }
        },
        "title": {
         "text": "Weight of each feature"
        },
        "xaxis": {
         "anchor": "y",
         "domain": [
          0,
          1
         ],
         "title": {
          "text": "Feature"
         }
        },
        "yaxis": {
         "anchor": "x",
         "domain": [
          0,
          1
         ],
         "title": {
          "text": "Feature Importances"
         }
        }
       }
      },
      "text/html": [
       "<div>                            <div id=\"85185265-983d-4f78-9794-be7a091c771a\" class=\"plotly-graph-div\" style=\"height:525px; width:100%;\"></div>            <script type=\"text/javascript\">                require([\"plotly\"], function(Plotly) {                    window.PLOTLYENV=window.PLOTLYENV || {};                                    if (document.getElementById(\"85185265-983d-4f78-9794-be7a091c771a\")) {                    Plotly.newPlot(                        \"85185265-983d-4f78-9794-be7a091c771a\",                        [{\"alignmentgroup\": \"True\", \"hovertemplate\": \"Feature=%{x}<br>Feature Importances=%{y}<extra></extra>\", \"legendgroup\": \"\", \"marker\": {\"color\": \"#636efa\"}, \"name\": \"\", \"offsetgroup\": \"\", \"orientation\": \"v\", \"showlegend\": false, \"textposition\": \"auto\", \"type\": \"bar\", \"x\": [\"1_ cf_likv1\", \"1_ cf_likv2\", \"1_ cf_likv3\", \"1_ cf_ob1\", \"1_ cf_ob2\", \"1_ cf_ob3\", \"1_ cf_ob4\", \"1_ cf_ob5\", \"1_ cf_rent1\", \"1_ cf_rent2\", \"1_ cf_rent3\", \"1_ \\u0441f_rent4\", \"1_ \\u0441f_rent5\", \"1_ \\u0441f_rent6\", \"1_ cf_rent7\", \"1_ cf_ru1\", \"1_ cf_ru2\", \"1_ cf_ru3\", \"1_ cf_ru4\", \"1_ cf_ru5\", \"1_ cf_ru6\", \"1_ cf_ru7\", \"1_ cf_ru8\", \"1_ cf_fu1\", \"1_ cf_fu2\", \"1_ cf_fu3\", \"1_ cf_fu4\", \"1_ cf_fu5\", \"1_ cf_fu6\", \"2_ cf_likv1\", \"2_ cf_likv2\", \"2_ cf_likv3\", \"2_ cf_ob1\", \"2_ cf_ob2\", \"2_ cf_ob3\", \"2_ cf_ob4\", \"2_ cf_ob5\", \"2_ cf_rent1\", \"2_ cf_rent2\", \"2_ cf_rent3\", \"2_ \\u0441f_rent4\", \"2_ \\u0441f_rent5\", \"2_ \\u0441f_rent6\", \"2_ cf_rent7\", \"2_ cf_ru1\", \"2_ cf_ru2\", \"2_ cf_ru3\", \"2_ cf_ru4\", \"2_ cf_ru5\", \"2_ cf_ru6\", \"2_ cf_ru7\", \"2_ cf_ru8\", \"2_ cf_fu1\", \"2_ cf_fu2\", \"2_ cf_fu3\", \"2_ cf_fu4\", \"2_ cf_fu5\", \"2_ cf_fu6\", \"3_ cf_likv1\", \"3_ cf_likv2\", \"3_ cf_likv3\", \"3_ cf_ob1\", \"3_ cf_ob2\", \"3_ cf_ob3\", \"3_ cf_ob4\", \"3_ cf_ob5\", \"3_ cf_rent1\", \"3_ cf_rent2\", \"3_ cf_rent3\", \"3_ \\u0441f_rent4\", \"3_ \\u0441f_rent5\", \"3_ \\u0441f_rent6\", \"3_ cf_rent7\", \"3_ cf_ru1\", \"3_ cf_ru2\", \"3_ cf_ru3\", \"3_ cf_ru4\", \"3_ cf_ru5\", \"3_ cf_ru6\", \"3_ cf_ru7\", \"3_ cf_ru8\", \"3_ cf_fu1\", \"3_ cf_fu2\", \"3_ cf_fu3\", \"3_ cf_fu4\", \"3_ cf_fu5\", \"3_ cf_fu6\", \"1-2_ cf_likv1\", \"2-3_ cf_likv1\", \"1-2_ cf_likv2\", \"2-3_ cf_likv2\", \"1-2_ cf_likv3\", \"2-3_ cf_likv3\", \"1-2_ cf_ob1\", \"2-3_ cf_ob1\", \"1-2_ cf_ob2\", \"2-3_ cf_ob2\", \"1-2_ cf_ob3\", \"2-3_ cf_ob3\", \"1-2_ cf_ob4\", \"2-3_ cf_ob4\", \"1-2_ cf_ob5\", \"2-3_ cf_ob5\", \"1-2_ cf_rent1\", \"2-3_ cf_rent1\", \"1-2_ cf_rent2\", \"2-3_ cf_rent2\", \"1-2_ cf_rent3\", \"2-3_ cf_rent3\", \"1-2_ \\u0441f_rent4\", \"2-3_ \\u0441f_rent4\", \"1-2_ \\u0441f_rent5\", \"2-3_ \\u0441f_rent5\", \"1-2_ \\u0441f_rent6\", \"2-3_ \\u0441f_rent6\", \"1-2_ cf_rent7\", \"2-3_ cf_rent7\", \"1-2_ cf_ru1\", \"2-3_ cf_ru1\", \"1-2_ cf_ru2\", \"2-3_ cf_ru2\", \"1-2_ cf_ru3\", \"2-3_ cf_ru3\", \"1-2_ cf_ru4\", \"2-3_ cf_ru4\", \"1-2_ cf_ru5\", \"2-3_ cf_ru5\", \"1-2_ cf_ru6\", \"2-3_ cf_ru6\", \"1-2_ cf_ru7\", \"2-3_ cf_ru7\", \"1-2_ cf_ru8\", \"2-3_ cf_ru8\", \"1-2_ cf_fu1\", \"2-3_ cf_fu1\", \"1-2_ cf_fu2\", \"2-3_ cf_fu2\", \"1-2_ cf_fu3\", \"2-3_ cf_fu3\", \"1-2_ cf_fu4\", \"2-3_ cf_fu4\", \"1-2_ cf_fu5\", \"2-3_ cf_fu5\", \"1-2_ cf_fu6\", \"2-3_ cf_fu6\"], \"xaxis\": \"x\", \"y\": [1, 151, 43, 10, 9, 569, 180, 0, 191, 43, 0, 0, 1, 0, 11, 77, 156, 0, 197, 0, 142, 201, 159, 415, 134, 127, 303, 0, 0, 179, 0, 0, 157, 0, 193, 122, 154, 260, 0, 9, 0, 0, 0, 267, 411, 27, 0, 0, 75, 98, 67, 311, 221, 95, 82, 26, 0, 0, 0, 0, 0, 125, 46, 0, 0, 0, 0, 101, 265, 148, 0, 0, 591, 26, 84, 57, 109, 9, 0, 339, 91, 0, 0, 269, 0, 17, 0, 165, 28, 234, 7, 3, 130, 28, 0, 275, 0, 49, 65, 215, 49, 0, 229, 154, 121, 13, 182, 0, 133, 0, 0, 0, 0, 71, 0, 5, 0, 88, 46, 67, 13, 106, 15, 14, 63, 0, 219, 257, 51, 111, 15, 216, 232, 72, 0, 51, 116, 36, 28, 53, 42, 222, 4, 0, 0], \"yaxis\": \"y\"}],                        {\"barmode\": \"relative\", \"legend\": {\"tracegroupgap\": 0}, \"template\": {\"data\": {\"bar\": [{\"error_x\": {\"color\": \"#2a3f5f\"}, \"error_y\": {\"color\": \"#2a3f5f\"}, \"marker\": {\"line\": {\"color\": \"#E5ECF6\", \"width\": 0.5}}, \"type\": \"bar\"}], \"barpolar\": [{\"marker\": {\"line\": {\"color\": \"#E5ECF6\", \"width\": 0.5}}, \"type\": \"barpolar\"}], \"carpet\": [{\"aaxis\": {\"endlinecolor\": \"#2a3f5f\", \"gridcolor\": \"white\", \"linecolor\": \"white\", \"minorgridcolor\": \"white\", \"startlinecolor\": \"#2a3f5f\"}, \"baxis\": {\"endlinecolor\": \"#2a3f5f\", \"gridcolor\": \"white\", \"linecolor\": \"white\", \"minorgridcolor\": \"white\", \"startlinecolor\": \"#2a3f5f\"}, \"type\": \"carpet\"}], \"choropleth\": [{\"colorbar\": {\"outlinewidth\": 0, \"ticks\": \"\"}, \"type\": \"choropleth\"}], \"contour\": [{\"colorbar\": {\"outlinewidth\": 0, \"ticks\": \"\"}, \"colorscale\": [[0.0, \"#0d0887\"], [0.1111111111111111, \"#46039f\"], [0.2222222222222222, \"#7201a8\"], [0.3333333333333333, \"#9c179e\"], [0.4444444444444444, \"#bd3786\"], [0.5555555555555556, \"#d8576b\"], [0.6666666666666666, \"#ed7953\"], [0.7777777777777778, \"#fb9f3a\"], [0.8888888888888888, \"#fdca26\"], [1.0, \"#f0f921\"]], \"type\": \"contour\"}], \"contourcarpet\": [{\"colorbar\": {\"outlinewidth\": 0, \"ticks\": \"\"}, \"type\": \"contourcarpet\"}], \"heatmap\": [{\"colorbar\": {\"outlinewidth\": 0, \"ticks\": \"\"}, \"colorscale\": [[0.0, \"#0d0887\"], [0.1111111111111111, \"#46039f\"], [0.2222222222222222, \"#7201a8\"], [0.3333333333333333, \"#9c179e\"], [0.4444444444444444, \"#bd3786\"], [0.5555555555555556, \"#d8576b\"], [0.6666666666666666, \"#ed7953\"], [0.7777777777777778, \"#fb9f3a\"], [0.8888888888888888, \"#fdca26\"], [1.0, \"#f0f921\"]], \"type\": \"heatmap\"}], \"heatmapgl\": [{\"colorbar\": {\"outlinewidth\": 0, \"ticks\": \"\"}, \"colorscale\": [[0.0, \"#0d0887\"], [0.1111111111111111, \"#46039f\"], [0.2222222222222222, \"#7201a8\"], [0.3333333333333333, \"#9c179e\"], [0.4444444444444444, \"#bd3786\"], [0.5555555555555556, \"#d8576b\"], [0.6666666666666666, \"#ed7953\"], [0.7777777777777778, \"#fb9f3a\"], [0.8888888888888888, \"#fdca26\"], [1.0, \"#f0f921\"]], \"type\": \"heatmapgl\"}], \"histogram\": [{\"marker\": {\"colorbar\": {\"outlinewidth\": 0, \"ticks\": \"\"}}, \"type\": \"histogram\"}], \"histogram2d\": [{\"colorbar\": {\"outlinewidth\": 0, \"ticks\": \"\"}, \"colorscale\": [[0.0, \"#0d0887\"], [0.1111111111111111, \"#46039f\"], [0.2222222222222222, \"#7201a8\"], [0.3333333333333333, \"#9c179e\"], [0.4444444444444444, \"#bd3786\"], [0.5555555555555556, \"#d8576b\"], [0.6666666666666666, \"#ed7953\"], [0.7777777777777778, \"#fb9f3a\"], [0.8888888888888888, \"#fdca26\"], [1.0, \"#f0f921\"]], \"type\": \"histogram2d\"}], \"histogram2dcontour\": [{\"colorbar\": {\"outlinewidth\": 0, \"ticks\": \"\"}, \"colorscale\": [[0.0, \"#0d0887\"], [0.1111111111111111, \"#46039f\"], [0.2222222222222222, \"#7201a8\"], [0.3333333333333333, \"#9c179e\"], [0.4444444444444444, \"#bd3786\"], [0.5555555555555556, \"#d8576b\"], [0.6666666666666666, \"#ed7953\"], [0.7777777777777778, \"#fb9f3a\"], [0.8888888888888888, \"#fdca26\"], [1.0, \"#f0f921\"]], \"type\": \"histogram2dcontour\"}], \"mesh3d\": [{\"colorbar\": {\"outlinewidth\": 0, \"ticks\": \"\"}, \"type\": \"mesh3d\"}], \"parcoords\": [{\"line\": {\"colorbar\": {\"outlinewidth\": 0, \"ticks\": \"\"}}, \"type\": \"parcoords\"}], \"pie\": [{\"automargin\": true, \"type\": \"pie\"}], \"scatter\": [{\"marker\": {\"colorbar\": {\"outlinewidth\": 0, \"ticks\": \"\"}}, \"type\": \"scatter\"}], \"scatter3d\": [{\"line\": {\"colorbar\": {\"outlinewidth\": 0, \"ticks\": \"\"}}, \"marker\": {\"colorbar\": {\"outlinewidth\": 0, \"ticks\": \"\"}}, \"type\": \"scatter3d\"}], \"scattercarpet\": [{\"marker\": {\"colorbar\": {\"outlinewidth\": 0, \"ticks\": \"\"}}, \"type\": \"scattercarpet\"}], \"scattergeo\": [{\"marker\": {\"colorbar\": {\"outlinewidth\": 0, \"ticks\": \"\"}}, \"type\": \"scattergeo\"}], \"scattergl\": [{\"marker\": {\"colorbar\": {\"outlinewidth\": 0, \"ticks\": \"\"}}, \"type\": \"scattergl\"}], \"scattermapbox\": [{\"marker\": {\"colorbar\": {\"outlinewidth\": 0, \"ticks\": \"\"}}, \"type\": \"scattermapbox\"}], \"scatterpolar\": [{\"marker\": {\"colorbar\": {\"outlinewidth\": 0, \"ticks\": \"\"}}, \"type\": \"scatterpolar\"}], \"scatterpolargl\": [{\"marker\": {\"colorbar\": {\"outlinewidth\": 0, \"ticks\": \"\"}}, \"type\": \"scatterpolargl\"}], \"scatterternary\": [{\"marker\": {\"colorbar\": {\"outlinewidth\": 0, \"ticks\": \"\"}}, \"type\": \"scatterternary\"}], \"surface\": [{\"colorbar\": {\"outlinewidth\": 0, \"ticks\": \"\"}, \"colorscale\": [[0.0, \"#0d0887\"], [0.1111111111111111, \"#46039f\"], [0.2222222222222222, \"#7201a8\"], [0.3333333333333333, \"#9c179e\"], [0.4444444444444444, \"#bd3786\"], [0.5555555555555556, \"#d8576b\"], [0.6666666666666666, \"#ed7953\"], [0.7777777777777778, \"#fb9f3a\"], [0.8888888888888888, \"#fdca26\"], [1.0, \"#f0f921\"]], \"type\": \"surface\"}], \"table\": [{\"cells\": {\"fill\": {\"color\": \"#EBF0F8\"}, \"line\": {\"color\": \"white\"}}, \"header\": {\"fill\": {\"color\": \"#C8D4E3\"}, \"line\": {\"color\": \"white\"}}, \"type\": \"table\"}]}, \"layout\": {\"annotationdefaults\": {\"arrowcolor\": \"#2a3f5f\", \"arrowhead\": 0, \"arrowwidth\": 1}, \"autotypenumbers\": \"strict\", \"coloraxis\": {\"colorbar\": {\"outlinewidth\": 0, \"ticks\": \"\"}}, \"colorscale\": {\"diverging\": [[0, \"#8e0152\"], [0.1, \"#c51b7d\"], [0.2, \"#de77ae\"], [0.3, \"#f1b6da\"], [0.4, \"#fde0ef\"], [0.5, \"#f7f7f7\"], [0.6, \"#e6f5d0\"], [0.7, \"#b8e186\"], [0.8, \"#7fbc41\"], [0.9, \"#4d9221\"], [1, \"#276419\"]], \"sequential\": [[0.0, \"#0d0887\"], [0.1111111111111111, \"#46039f\"], [0.2222222222222222, \"#7201a8\"], [0.3333333333333333, \"#9c179e\"], [0.4444444444444444, \"#bd3786\"], [0.5555555555555556, \"#d8576b\"], [0.6666666666666666, \"#ed7953\"], [0.7777777777777778, \"#fb9f3a\"], [0.8888888888888888, \"#fdca26\"], [1.0, \"#f0f921\"]], \"sequentialminus\": [[0.0, \"#0d0887\"], [0.1111111111111111, \"#46039f\"], [0.2222222222222222, \"#7201a8\"], [0.3333333333333333, \"#9c179e\"], [0.4444444444444444, \"#bd3786\"], [0.5555555555555556, \"#d8576b\"], [0.6666666666666666, \"#ed7953\"], [0.7777777777777778, \"#fb9f3a\"], [0.8888888888888888, \"#fdca26\"], [1.0, \"#f0f921\"]]}, \"colorway\": [\"#636efa\", \"#EF553B\", \"#00cc96\", \"#ab63fa\", \"#FFA15A\", \"#19d3f3\", \"#FF6692\", \"#B6E880\", \"#FF97FF\", \"#FECB52\"], \"font\": {\"color\": \"#2a3f5f\"}, \"geo\": {\"bgcolor\": \"white\", \"lakecolor\": \"white\", \"landcolor\": \"#E5ECF6\", \"showlakes\": true, \"showland\": true, \"subunitcolor\": \"white\"}, \"hoverlabel\": {\"align\": \"left\"}, \"hovermode\": \"closest\", \"mapbox\": {\"style\": \"light\"}, \"paper_bgcolor\": \"white\", \"plot_bgcolor\": \"#E5ECF6\", \"polar\": {\"angularaxis\": {\"gridcolor\": \"white\", \"linecolor\": \"white\", \"ticks\": \"\"}, \"bgcolor\": \"#E5ECF6\", \"radialaxis\": {\"gridcolor\": \"white\", \"linecolor\": \"white\", \"ticks\": \"\"}}, \"scene\": {\"xaxis\": {\"backgroundcolor\": \"#E5ECF6\", \"gridcolor\": \"white\", \"gridwidth\": 2, \"linecolor\": \"white\", \"showbackground\": true, \"ticks\": \"\", \"zerolinecolor\": \"white\"}, \"yaxis\": {\"backgroundcolor\": \"#E5ECF6\", \"gridcolor\": \"white\", \"gridwidth\": 2, \"linecolor\": \"white\", \"showbackground\": true, \"ticks\": \"\", \"zerolinecolor\": \"white\"}, \"zaxis\": {\"backgroundcolor\": \"#E5ECF6\", \"gridcolor\": \"white\", \"gridwidth\": 2, \"linecolor\": \"white\", \"showbackground\": true, \"ticks\": \"\", \"zerolinecolor\": \"white\"}}, \"shapedefaults\": {\"line\": {\"color\": \"#2a3f5f\"}}, \"ternary\": {\"aaxis\": {\"gridcolor\": \"white\", \"linecolor\": \"white\", \"ticks\": \"\"}, \"baxis\": {\"gridcolor\": \"white\", \"linecolor\": \"white\", \"ticks\": \"\"}, \"bgcolor\": \"#E5ECF6\", \"caxis\": {\"gridcolor\": \"white\", \"linecolor\": \"white\", \"ticks\": \"\"}}, \"title\": {\"x\": 0.05}, \"xaxis\": {\"automargin\": true, \"gridcolor\": \"white\", \"linecolor\": \"white\", \"ticks\": \"\", \"title\": {\"standoff\": 15}, \"zerolinecolor\": \"white\", \"zerolinewidth\": 2}, \"yaxis\": {\"automargin\": true, \"gridcolor\": \"white\", \"linecolor\": \"white\", \"ticks\": \"\", \"title\": {\"standoff\": 15}, \"zerolinecolor\": \"white\", \"zerolinewidth\": 2}}}, \"title\": {\"text\": \"Weight of each feature\"}, \"xaxis\": {\"anchor\": \"y\", \"domain\": [0.0, 1.0], \"title\": {\"text\": \"Feature\"}}, \"yaxis\": {\"anchor\": \"x\", \"domain\": [0.0, 1.0], \"title\": {\"text\": \"Feature Importances\"}}},                        {\"responsive\": true}                    ).then(function(){\n",
       "                            \n",
       "var gd = document.getElementById('85185265-983d-4f78-9794-be7a091c771a');\n",
       "var x = new MutationObserver(function (mutations, observer) {{\n",
       "        var display = window.getComputedStyle(gd).display;\n",
       "        if (!display || display === 'none') {{\n",
       "            console.log([gd, 'removed!']);\n",
       "            Plotly.purge(gd);\n",
       "            observer.disconnect();\n",
       "        }}\n",
       "}});\n",
       "\n",
       "// Listen for the removal of the full notebook cells\n",
       "var notebookContainer = gd.closest('#notebook-container');\n",
       "if (notebookContainer) {{\n",
       "    x.observe(notebookContainer, {childList: true});\n",
       "}}\n",
       "\n",
       "// Listen for the clearing of the current output cell\n",
       "var outputEl = gd.closest('.output');\n",
       "if (outputEl) {{\n",
       "    x.observe(outputEl, {childList: true});\n",
       "}}\n",
       "\n",
       "                        })                };                });            </script>        </div>"
      ]
     },
     "metadata": {},
     "output_type": "display_data"
    }
   ],
   "source": [
    "fig = px.bar(\n",
    "        x=X.columns, y=model.feature_importances_,\n",
    "        labels=dict(x='Feature', y='Feature Importances'),\n",
    "        title='Weight of each feature'\n",
    ")\n",
    "\n",
    "fig.show()"
   ]
  },
  {
   "cell_type": "markdown",
   "metadata": {},
   "source": [
    "### Оцениваем качество на данных 2020 года - независимой выборке"
   ]
  },
  {
   "cell_type": "markdown",
   "metadata": {},
   "source": [
    "#### Выделяем признаки и таргет"
   ]
  },
  {
   "cell_type": "code",
   "execution_count": 152,
   "metadata": {},
   "outputs": [],
   "source": [
    "X_2020=data20[[x for x in data20.columns if 'Наименование ДП' not in x and 'ПДЗ' not in x and 'target' not in x]]\n",
    "y_2020=data20['target']"
   ]
  },
  {
   "cell_type": "markdown",
   "metadata": {},
   "source": [
    "#### Переименуем все фичи"
   ]
  },
  {
   "cell_type": "code",
   "execution_count": 153,
   "metadata": {},
   "outputs": [],
   "source": [
    "for i in range(len(X_2020.columns)):\n",
    "    X_2020=X_2020.rename({X_2020.columns[i]: X_2020.columns[i].replace(',','_')},axis=1)"
   ]
  },
  {
   "cell_type": "markdown",
   "metadata": {},
   "source": [
    "#### Считаем распределение уровней таргета"
   ]
  },
  {
   "cell_type": "code",
   "execution_count": 154,
   "metadata": {},
   "outputs": [
    {
     "name": "stdout",
     "output_type": "stream",
     "text": [
      "Доля класса 0: 31.3%\n",
      "Доля класса 1: 53.05%\n",
      "Доля класса 2: 7.63%\n",
      "Доля класса 3: 1.91%\n",
      "Доля класса 4: 6.11%\n"
     ]
    }
   ],
   "source": [
    "for k in set(y_2020):\n",
    "    print(f'Доля класса {k}: {round(len(y_2020[y_2020==k])/len(y_2020)*100,2)}%')"
   ]
  },
  {
   "cell_type": "markdown",
   "metadata": {},
   "source": [
    "#### Строим прогноз"
   ]
  },
  {
   "cell_type": "code",
   "execution_count": 155,
   "metadata": {},
   "outputs": [],
   "source": [
    "y_pred=model.predict(X_2020)\n",
    "y_prob=model.predict_proba(X_2020)"
   ]
  },
  {
   "cell_type": "markdown",
   "metadata": {},
   "source": [
    "#### Смотрим качество"
   ]
  },
  {
   "cell_type": "code",
   "execution_count": 156,
   "metadata": {},
   "outputs": [
    {
     "name": "stdout",
     "output_type": "stream",
     "text": [
      "Взвешенный F1: 0.43\n",
      "ROC AUC OVR: 0.585\n"
     ]
    }
   ],
   "source": [
    "print(f'Взвешенный F1: {round(f1_score(y_2020,y_pred,average=\"weighted\"),3)}')\n",
    "print(f'ROC AUC OVR: {round(roc_auc_score(y_2020,y_prob,multi_class=\"ovr\"),3)}')"
   ]
  },
  {
   "cell_type": "markdown",
   "metadata": {},
   "source": [
    "#### Смотрим качество в разрезе каждого класса"
   ]
  },
  {
   "cell_type": "code",
   "execution_count": 157,
   "metadata": {},
   "outputs": [
    {
     "data": {
      "text/html": [
       "<div>\n",
       "<style scoped>\n",
       "    .dataframe tbody tr th:only-of-type {\n",
       "        vertical-align: middle;\n",
       "    }\n",
       "\n",
       "    .dataframe tbody tr th {\n",
       "        vertical-align: top;\n",
       "    }\n",
       "\n",
       "    .dataframe thead th {\n",
       "        text-align: right;\n",
       "    }\n",
       "</style>\n",
       "<table border=\"1\" class=\"dataframe\">\n",
       "  <thead>\n",
       "    <tr style=\"text-align: right;\">\n",
       "      <th></th>\n",
       "      <th>ПДЗ=0</th>\n",
       "      <th>1&lt;=ПДЗ&lt;=30</th>\n",
       "      <th>31&lt;=ПДЗ&lt;=60</th>\n",
       "      <th>61&lt;=ПДЗ&lt;=90</th>\n",
       "      <th>ПДЗ&gt;90</th>\n",
       "    </tr>\n",
       "  </thead>\n",
       "  <tbody>\n",
       "    <tr>\n",
       "      <th>F1</th>\n",
       "      <td>0.3626</td>\n",
       "      <td>0.5962</td>\n",
       "      <td>0.0</td>\n",
       "      <td>0.0</td>\n",
       "      <td>0.0</td>\n",
       "    </tr>\n",
       "    <tr>\n",
       "      <th>Precision</th>\n",
       "      <td>0.3483</td>\n",
       "      <td>0.5376</td>\n",
       "      <td>0.0</td>\n",
       "      <td>0.0</td>\n",
       "      <td>0.0</td>\n",
       "    </tr>\n",
       "    <tr>\n",
       "      <th>Recall</th>\n",
       "      <td>0.3780</td>\n",
       "      <td>0.6691</td>\n",
       "      <td>0.0</td>\n",
       "      <td>0.0</td>\n",
       "      <td>0.0</td>\n",
       "    </tr>\n",
       "  </tbody>\n",
       "</table>\n",
       "</div>"
      ],
      "text/plain": [
       "            ПДЗ=0  1<=ПДЗ<=30  31<=ПДЗ<=60  61<=ПДЗ<=90  ПДЗ>90\n",
       "F1         0.3626      0.5962          0.0          0.0     0.0\n",
       "Precision  0.3483      0.5376          0.0          0.0     0.0\n",
       "Recall     0.3780      0.6691          0.0          0.0     0.0"
      ]
     },
     "metadata": {},
     "output_type": "display_data"
    }
   ],
   "source": [
    "st = {\n",
    "      'F1': f1_score(y_2020,y_pred,average=None),\n",
    "      'Precision': precision_score(y_2020,y_pred,average=None),\n",
    "      'Recall': recall_score(y_2020,y_pred,average=None)\n",
    "       }\n",
    "\n",
    "table=pd.DataFrame(st).T\n",
    "table.columns=['ПДЗ=0', '1<=ПДЗ<=30','31<=ПДЗ<=60','61<=ПДЗ<=90','ПДЗ>90']\n",
    "display(round(table,4))"
   ]
  },
  {
   "cell_type": "markdown",
   "metadata": {},
   "source": [
    "#### Смотрим confusion matrix"
   ]
  },
  {
   "cell_type": "code",
   "execution_count": 158,
   "metadata": {
    "scrolled": true
   },
   "outputs": [
    {
     "name": "stdout",
     "output_type": "stream",
     "text": [
      "Confusion matrix, without normalization\n"
     ]
    },
    {
     "data": {
      "image/png": "[encoded data removed]",
      "text/plain": [
       "<Figure size 432x288 with 2 Axes>"
      ]
     },
     "metadata": {
      "needs_background": "light"
     },
     "output_type": "display_data"
    }
   ],
   "source": [
    "cm = confusion_matrix(y_2020, y_pred)\n",
    "plot_confusion_matrix(cm, classes=['ПДЗ=0', '1<=ПДЗ<=30','31<=ПДЗ<=60','61<=ПДЗ<=90','ПДЗ>90'])"
   ]
  },
  {
   "cell_type": "code",
   "execution_count": null,
   "metadata": {},
   "outputs": [],
   "source": []
  }
 ],
 "metadata": {
  "kernelspec": {
   "display_name": "Python 3",
   "language": "python",
   "name": "python3"
  },
  "language_info": {
   "codemirror_mode": {
    "name": "ipython",
    "version": 3
   },
   "file_extension": ".py",
   "mimetype": "text/x-python",
   "name": "python",
   "nbconvert_exporter": "python",
   "pygments_lexer": "ipython3",
   "version": "3.8.5"
  }
 },
 "nbformat": 4,
 "nbformat_minor": 4
}
